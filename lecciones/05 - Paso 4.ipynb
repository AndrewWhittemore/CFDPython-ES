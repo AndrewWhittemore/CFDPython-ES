{
 "metadata": {
  "name": ""
 },
 "nbformat": 3,
 "nbformat_minor": 0,
 "worksheets": [
  {
   "cells": [
    {
     "cell_type": "raw",
     "metadata": {},
     "source": [
      "Texto y c\u00f3digo sujeto bajo Creative Commons Attribution license, CC-BY-SA. (c) Original por Lorena A. Barba, 2013, traducido por F.J. Navarro-Brull para CAChemE.org "
     ]
    },
    {
     "cell_type": "markdown",
     "metadata": {},
     "source": [
      "[@LorenaABarba](https://twitter.com/LorenaABarba)\n",
      "[@CAChemEorg](https://twitter.com/cachemeorg)"
     ]
    },
    {
     "cell_type": "markdown",
     "metadata": {},
     "source": [
      "12 pasos a Navier-Stokes\n",
      "=====\n",
      "***"
     ]
    },
    {
     "cell_type": "markdown",
     "metadata": {},
     "source": [
      "Continuamos nuestro viaje para resolver la ecuaci\u00f3n de Navier-Stokes con el Paso 4. \u00a1Pero no continues a menos que hayas completado los pasos anteriores! De hecho, el pr\u00f3ximo paso ser\u00e1 una combinaci\u00f3n de los dos anteriores. Las maravillas de la *reutilizaci\u00f3n de c\u00f3digo*!\n"
     ]
    },
    {
     "cell_type": "markdown",
     "metadata": {},
     "source": [
      "Paso 4: Ecuaci\u00f3n de Burgers\n",
      "----\n",
      "***"
     ]
    },
    {
     "cell_type": "markdown",
     "metadata": {},
     "source": [
      "Puedes leer sobre la ecuaci\u00f3n de Burgers en la [wikipedia (ingl\u00e9s)](http://en.wikipedia.org/wiki/Burgers'_equation).\n",
      "\n",
      "La ecuaci\u00f3n de burgers con una dimensi\u00f3n espacial tiene la siguiente forma:\n",
      "\n",
      "$$\\frac{\\partial u}{\\partial t} + u \\frac{\\partial u}{\\partial x} = \\nu \\frac{\\partial ^2u}{\\partial x^2}$$\n",
      "\n",
      "Como puedes ver, es una combiniaci\u00f3n de convecci\u00f3n y difusi\u00f3n no lineal. Es sorprendente lo mucho que se puede aprender de esta peque\u00f1a y sencilla ecuaci\u00f3n.\n",
      "\n",
      "Podemos discretizarla usando los metodos que se han detallado de los Pasos [1](http://nbviewer.ipython.org/urls/bitbucket.org/franktoffel/cfd-python-class-es/raw/master/lecciones/01%2520-%2520Paso%25201.ipynb) a [3](http://nbviewer.ipython.org/urls/bitbucket.org/franktoffel/cfd-python-class-es/raw/master/lecciones/04%2520-%2520Paso%25203.ipynb).  Usando diferencias hacia delante para el tiempo, hacia atr\u00e1s para el espacio y nuestro m\u00e9todo de 2\u00ba orden para la segunda derivada, se llega a:\n",
      "\n",
      "$$\\frac{u_i^{n+1}-u_i^n}{\\Delta t} + u_i^n \\frac{u_i^n - u_{i-1}^n}{\\Delta x} = \\nu \\frac{u_{i+1}^n - 2u_i^n + u_{i-1}^n}{\\Delta x^2}$$\n",
      "\n",
      "Como antes, una vez dadas las condiciones iniciales, la \u00fanica inc\u00f3gina es $u_i^{n+1}$. Despejando, haremos avanzar el tiempo de la siguiente forma:\n",
      "\n",
      "$$u_i^{n+1} = u_i^n - u_i^n \\frac{\\Delta t}{\\Delta x} (u_i^n - u_{i-1}^n) + \\nu \\frac{\\Delta t}{\\Delta x^2}(u_{i+1}^n - 2u_i^n + u_{i-1}^n)$$"
     ]
    },
    {
     "cell_type": "markdown",
     "metadata": {},
     "source": [
      "###Condiciones iniciales y de contorno (*Initial and Boundary Conditions*)\n",
      "\n",
      "Para examinar algunas propiedades interesantes de la ecuaci\u00f3n de Burgers, es \u00fatil usar diferentes condiciones iniciales y de contorno de las que hemos estado usando hasta ahora.\n",
      "\n",
      "Nuestra condici\u00f3n inicial para este problema va a ser:\n",
      "\n",
      "\\begin{eqnarray}\n",
      "u &=& -\\frac{2 \\nu}{\\phi} \\frac{\\partial \\phi}{\\partial x} + 4 \\\\\\\n",
      "\\phi &=& \\exp \\bigg(\\frac{-x^2}{4 \\nu} \\bigg) + \\exp \\bigg(\\frac{-(x-2 \\pi)^2}{4 \\nu} \\bigg)\n",
      "\\end{eqnarray}\n",
      "\n",
      "Esto tiene una soluci\u00f3n anal\u00edtica, dada por:\n",
      "\n",
      "\\begin{eqnarray}\n",
      "u &=& -\\frac{2 \\nu}{\\phi} \\frac{\\partial \\phi}{\\partial x} + 4 \\\\\\\n",
      "\\phi &=& \\exp \\bigg(\\frac{-(x-4t)^2}{4 \\nu (t+1)} \\bigg) + \\exp \\bigg(\\frac{-(x-4t -2 \\pi)^2}{4 \\nu(t+1)} \\bigg)\n",
      "\\end{eqnarray}\n",
      "\n",
      "Nuestra condici\u00f3n de frontera ser\u00e1:\n",
      "\n",
      "$$u(0) = u(2\\pi)$$\n",
      "\n",
      "Esto se llama condici\u00f3n de frontera *peri\u00f3dica*. \u00a1Presta atenci\u00f3n! Esto dar\u00e1 un poco de dolor de cabeza si no se anda con cuidado."
     ]
    },
    {
     "cell_type": "markdown",
     "metadata": {},
     "source": [
      "###Ahorrando tiempo con SymPy\n",
      "\n",
      "La condici\u00f3n inicial que estamos utilizando para la ecuaci\u00f3n de Burgers puede ser un poco compleja de evaluar a mano. La derivada $\\frac{\\partial \\phi}{\\partial x}$ no es terriblemente dif\u00edcil, pero ser\u00eda f\u00e1cil cambiar un signo u olvidar un factor de $x$ en alguna parte, as\u00ed que vamos a utilizar SymPy para ayudarnos.\n",
      "\n",
      "[SymPy](http://sympy.org/en/) es la librer\u00eda matem\u00e1tica de lenguaje simb\u00f3lico para Python. Tiene muchas de las mismas funciones matem\u00e1ticas que Mathematica con la ventaja a\u00f1adida de que podemos traducir f\u00e1cilmente sus resultados a nuestros c\u00e1lculos en Python (tambi\u00e9n es gratuita y de c\u00f3digo abierto).\n",
      "\n",
      "Comenzamos cargando la librer\u00eda SymPy junto con nuestra biblioteca favorita NumPy."
     ]
    },
    {
     "cell_type": "code",
     "collapsed": false,
     "input": [
      "import numpy as np\n",
      "import sympy"
     ],
     "language": "python",
     "metadata": {},
     "outputs": [],
     "prompt_number": 2
    },
    {
     "cell_type": "markdown",
     "metadata": {},
     "source": [
      "Tambi\u00e9n vamos a decir a SymPy que queremos toda la salida de resultados presentados mediante $\\LaTeX$. \u00a1Esto har\u00e1 que nuestro Notebook se vea bonito!"
     ]
    },
    {
     "cell_type": "code",
     "collapsed": false,
     "input": [
      "from sympy import init_printing\n",
      "init_printing(use_latex=True)"
     ],
     "language": "python",
     "metadata": {},
     "outputs": [],
     "prompt_number": 3
    },
    {
     "cell_type": "markdown",
     "metadata": {},
     "source": [
      "Comenzaremos por la creaci\u00f3n de variables simb\u00f3licas para las tres variables en nuestra condici\u00f3n inicial y escribiremos la ecuaci\u00f3n completa para $\\phi$. Debemos conseguir una versi\u00f3n renderizada de nuestra ecuaci\u00f3n $\\phi$."
     ]
    },
    {
     "cell_type": "code",
     "collapsed": false,
     "input": [
      "x, nu, t = sympy.symbols('x nu t')\n",
      "phi = sympy.exp(-(x-4*t)**2/(4*nu*(t+1))) + sympy.exp(-(x-4*t-2*np.pi)**2/(4*nu*(t+1)))\n",
      "phi"
     ],
     "language": "python",
     "metadata": {},
     "outputs": [
      {
       "latex": [
        "$$e^{- \\frac{\\left(- 4 t + x - 6.28318530717959\\right)^{2}}{4 \\nu \\left(t + 1\\right)}} + e^{- \\frac{\\left(- 4 t + x\\right)^{2}}{4 \\nu \\left(t + 1\\right)}}$$"
       ],
       "metadata": {},
       "output_type": "pyout",
       "prompt_number": 4,
       "text": [
        "                               2                2 \n",
        " -(-4\u22c5t + x - 6.28318530717959)      -(-4\u22c5t + x)  \n",
        " \u2500\u2500\u2500\u2500\u2500\u2500\u2500\u2500\u2500\u2500\u2500\u2500\u2500\u2500\u2500\u2500\u2500\u2500\u2500\u2500\u2500\u2500\u2500\u2500\u2500\u2500\u2500\u2500\u2500\u2500\u2500\u2500    \u2500\u2500\u2500\u2500\u2500\u2500\u2500\u2500\u2500\u2500\u2500\u2500\u2500\n",
        "           4\u22c5\u03bd\u22c5(t + 1)                4\u22c5\u03bd\u22c5(t + 1) \n",
        "\u212f                                 + \u212f             "
       ]
      }
     ],
     "prompt_number": 4
    },
    {
     "cell_type": "markdown",
     "metadata": {},
     "source": [
      "Es quiz\u00e1s un poco peque\u00f1a, pero se puede ver. Ahora, evaluar nuestro derivada parcial $\\frac{\\partial \\phi}{\\partial x}$ es algo trivial."
     ]
    },
    {
     "cell_type": "code",
     "collapsed": false,
     "input": [
      "phiprime = phi.diff(x)\n",
      "phiprime"
     ],
     "language": "python",
     "metadata": {},
     "outputs": [
      {
       "latex": [
        "$$- \\frac{e^{- \\frac{\\left(- 4 t + x\\right)^{2}}{4 \\nu \\left(t + 1\\right)}}}{4 \\nu \\left(t + 1\\right)} \\left(- 8 t + 2 x\\right) - \\frac{1}{4 \\nu \\left(t + 1\\right)} \\left(- 8 t + 2 x - 12.5663706143592\\right) e^{- \\frac{\\left(- 4 t + x - 6.28318530717959\\right)^{2}}{4 \\nu \\left(t + 1\\right)}}$$"
       ],
       "metadata": {},
       "output_type": "pyout",
       "prompt_number": 5,
       "text": [
        "                           2                                                  \n",
        "                -(-4\u22c5t + x)                                      -(-4\u22c5t + x - \n",
        "                \u2500\u2500\u2500\u2500\u2500\u2500\u2500\u2500\u2500\u2500\u2500\u2500\u2500                                    \u2500\u2500\u2500\u2500\u2500\u2500\u2500\u2500\u2500\u2500\u2500\u2500\u2500\n",
        "                 4\u22c5\u03bd\u22c5(t + 1)                                               4\u22c5\u03bd\n",
        "  (-8\u22c5t + 2\u22c5x)\u22c5\u212f                (-8\u22c5t + 2\u22c5x - 12.5663706143592)\u22c5\u212f             \n",
        "- \u2500\u2500\u2500\u2500\u2500\u2500\u2500\u2500\u2500\u2500\u2500\u2500\u2500\u2500\u2500\u2500\u2500\u2500\u2500\u2500\u2500\u2500\u2500\u2500\u2500\u2500\u2500 - \u2500\u2500\u2500\u2500\u2500\u2500\u2500\u2500\u2500\u2500\u2500\u2500\u2500\u2500\u2500\u2500\u2500\u2500\u2500\u2500\u2500\u2500\u2500\u2500\u2500\u2500\u2500\u2500\u2500\u2500\u2500\u2500\u2500\u2500\u2500\u2500\u2500\u2500\u2500\u2500\u2500\u2500\u2500\u2500\u2500\u2500\n",
        "          4\u22c5\u03bd\u22c5(t + 1)                                      4\u22c5\u03bd\u22c5(t + 1)        \n",
        "\n",
        "                 2 \n",
        "6.28318530717959)  \n",
        "\u2500\u2500\u2500\u2500\u2500\u2500\u2500\u2500\u2500\u2500\u2500\u2500\u2500\u2500\u2500\u2500\u2500\u2500\u2500\n",
        "\u22c5(t + 1)           \n",
        "                   \n",
        "\u2500\u2500\u2500\u2500\u2500\u2500\u2500\u2500\u2500\u2500\u2500\u2500\u2500\u2500\u2500\u2500\u2500\u2500\u2500\n",
        "                   "
       ]
      }
     ],
     "prompt_number": 5
    },
    {
     "cell_type": "markdown",
     "metadata": {},
     "source": [
      "Si quieres ver la versi\u00f3n sin renderizar, s\u00f3lo tienes que utilizar el comando de impresi\u00f3n (print) de Python."
     ]
    },
    {
     "cell_type": "code",
     "collapsed": false,
     "input": [
      "print phiprime"
     ],
     "language": "python",
     "metadata": {},
     "outputs": [
      {
       "output_type": "stream",
       "stream": "stdout",
       "text": [
        "-(-8*t + 2*x)*exp(-(-4*t + x)**2/(4*nu*(t + 1)))/(4*nu*(t + 1)) - (-8*t + 2*x - 12.5663706143592)*exp(-(-4*t + x - 6.28318530717959)**2/(4*nu*(t + 1)))/(4*nu*(t + 1))\n"
       ]
      }
     ],
     "prompt_number": 16
    },
    {
     "cell_type": "markdown",
     "metadata": {},
     "source": [
      "###\u00bfAhora qu\u00e9?\n",
      "\n",
      "Ahora que ya tenemos la versi\u00f3n \"Pythonic\" de nuestra derivada, podemos terminar de escribir la ecuaci\u00f3n de condici\u00f3n inicial y luego traducirlo en una expresi\u00f3n Python utilizable. Para ello, vamos a utilizar la funci\u00f3n *lambdify*, que a partir una ecuaci\u00f3n simb\u00f3lica SymPy la convierte en una funci\u00f3n que se puede ejecutar."
     ]
    },
    {
     "cell_type": "code",
     "collapsed": false,
     "input": [
      "from sympy.utilities.lambdify import lambdify\n",
      "\n",
      "u = -2*nu*(phiprime/phi)+4\n",
      "u"
     ],
     "language": "python",
     "metadata": {},
     "outputs": [
      {
       "latex": [
        "$$- \\frac{2 \\nu}{e^{- \\frac{\\left(- 4 t + x - 6.28318530717959\\right)^{2}}{4 \\nu \\left(t + 1\\right)}} + e^{- \\frac{\\left(- 4 t + x\\right)^{2}}{4 \\nu \\left(t + 1\\right)}}} \\left(- \\frac{e^{- \\frac{\\left(- 4 t + x\\right)^{2}}{4 \\nu \\left(t + 1\\right)}}}{4 \\nu \\left(t + 1\\right)} \\left(- 8 t + 2 x\\right) - \\frac{1}{4 \\nu \\left(t + 1\\right)} \\left(- 8 t + 2 x - 12.5663706143592\\right) e^{- \\frac{\\left(- 4 t + x - 6.28318530717959\\right)^{2}}{4 \\nu \\left(t + 1\\right)}}\\right) + 4$$"
       ],
       "metadata": {},
       "output_type": "pyout",
       "prompt_number": 6,
       "text": [
        "      \u239b                           2                                           \n",
        "      \u239c                -(-4\u22c5t + x)                                      -(-4\u22c5t\n",
        "      \u239c                \u2500\u2500\u2500\u2500\u2500\u2500\u2500\u2500\u2500\u2500\u2500\u2500\u2500                                    \u2500\u2500\u2500\u2500\u2500\u2500\n",
        "      \u239c                 4\u22c5\u03bd\u22c5(t + 1)                                           \n",
        "      \u239c  (-8\u22c5t + 2\u22c5x)\u22c5\u212f                (-8\u22c5t + 2\u22c5x - 12.5663706143592)\u22c5\u212f      \n",
        "  2\u22c5\u03bd\u22c5\u239c- \u2500\u2500\u2500\u2500\u2500\u2500\u2500\u2500\u2500\u2500\u2500\u2500\u2500\u2500\u2500\u2500\u2500\u2500\u2500\u2500\u2500\u2500\u2500\u2500\u2500\u2500\u2500 - \u2500\u2500\u2500\u2500\u2500\u2500\u2500\u2500\u2500\u2500\u2500\u2500\u2500\u2500\u2500\u2500\u2500\u2500\u2500\u2500\u2500\u2500\u2500\u2500\u2500\u2500\u2500\u2500\u2500\u2500\u2500\u2500\u2500\u2500\u2500\u2500\u2500\u2500\u2500\n",
        "      \u239d          4\u22c5\u03bd\u22c5(t + 1)                                      4\u22c5\u03bd\u22c5(t + 1) \n",
        "- \u2500\u2500\u2500\u2500\u2500\u2500\u2500\u2500\u2500\u2500\u2500\u2500\u2500\u2500\u2500\u2500\u2500\u2500\u2500\u2500\u2500\u2500\u2500\u2500\u2500\u2500\u2500\u2500\u2500\u2500\u2500\u2500\u2500\u2500\u2500\u2500\u2500\u2500\u2500\u2500\u2500\u2500\u2500\u2500\u2500\u2500\u2500\u2500\u2500\u2500\u2500\u2500\u2500\u2500\u2500\u2500\u2500\u2500\u2500\u2500\u2500\u2500\u2500\u2500\u2500\u2500\u2500\u2500\u2500\u2500\u2500\u2500\u2500\u2500\u2500\u2500\n",
        "                                                            2                2\n",
        "                              -(-4\u22c5t + x - 6.28318530717959)      -(-4\u22c5t + x) \n",
        "                              \u2500\u2500\u2500\u2500\u2500\u2500\u2500\u2500\u2500\u2500\u2500\u2500\u2500\u2500\u2500\u2500\u2500\u2500\u2500\u2500\u2500\u2500\u2500\u2500\u2500\u2500\u2500\u2500\u2500\u2500\u2500\u2500    \u2500\u2500\u2500\u2500\u2500\u2500\u2500\u2500\u2500\u2500\u2500\u2500\n",
        "                                        4\u22c5\u03bd\u22c5(t + 1)                4\u22c5\u03bd\u22c5(t + 1)\n",
        "                             \u212f                                 + \u212f            \n",
        "\n",
        "                        2 \u239e    \n",
        " + x - 6.28318530717959)  \u239f    \n",
        "\u2500\u2500\u2500\u2500\u2500\u2500\u2500\u2500\u2500\u2500\u2500\u2500\u2500\u2500\u2500\u2500\u2500\u2500\u2500\u2500\u2500\u2500\u2500\u2500\u2500\u2500\u239f    \n",
        "    4\u22c5\u03bd\u22c5(t + 1)           \u239f    \n",
        "                          \u239f    \n",
        "\u2500\u2500\u2500\u2500\u2500\u2500\u2500\u2500\u2500\u2500\u2500\u2500\u2500\u2500\u2500\u2500\u2500\u2500\u2500\u2500\u2500\u2500\u2500\u2500\u2500\u2500\u239f    \n",
        "                          \u23a0    \n",
        "\u2500\u2500\u2500\u2500\u2500\u2500\u2500\u2500\u2500\u2500\u2500\u2500\u2500\u2500\u2500\u2500\u2500\u2500\u2500\u2500\u2500\u2500\u2500\u2500\u2500\u2500\u2500 + 4\n",
        "                               \n",
        "                               \n",
        "\u2500                              \n",
        "                               \n",
        "                               "
       ]
      }
     ],
     "prompt_number": 6
    },
    {
     "cell_type": "markdown",
     "metadata": {},
     "source": [
      "###Lambdify\n",
      "\n",
      "Para transfomar con lambdify la expresi\u00f3n en una funci\u00f3n que se pueda usar, decimos a lambdify qu\u00e9 variables son las de entradas (t,x,nu) y las de salida (u)."
     ]
    },
    {
     "cell_type": "code",
     "collapsed": false,
     "input": [
      "ufunc = lambdify((t, x, nu), u)\n",
      "ufunc(1,4,3)"
     ],
     "language": "python",
     "metadata": {},
     "outputs": [
      {
       "latex": [
        "$$3.4917066420644494$$"
       ],
       "metadata": {},
       "output_type": "pyout",
       "prompt_number": 7,
       "text": [
        "3.4917066420644494"
       ]
      }
     ],
     "prompt_number": 7
    },
    {
     "cell_type": "markdown",
     "metadata": {},
     "source": [
      "###De vuelta a la ecuaci\u00f3n de Burgers\n",
      "\n",
      "Ahora que tenemos las condiciones iniciales establecidas, podemos continuar y finalizar la soluci\u00f3n del problema. Podemos representar la condici\u00f3n inicial utilizando nuestro `lambdify`"
     ]
    },
    {
     "cell_type": "code",
     "collapsed": false,
     "input": [
      "import matplotlib.pyplot as plt\n",
      "\n",
      "### Declaraci\u00f3n de variables\n",
      "nx = 101\n",
      "nt = 100\n",
      "dx = 2*np.pi/(nx-1)\n",
      "nu = .07\n",
      "dt = dx*nu\n",
      "\n",
      "x = np.linspace(0, 2*np.pi, nx)\n",
      "#u = np.empty(nx)\n",
      "un = np.empty(nx)\n",
      "t = 0\n",
      "\n",
      "u = np.asarray([ufunc(t, x0, nu) for x0 in x])\n",
      "u"
     ],
     "language": "python",
     "metadata": {},
     "outputs": [
      {
       "metadata": {},
       "output_type": "pyout",
       "prompt_number": 8,
       "text": [
        "array([ 4.        ,  4.06283185,  4.12566371,  4.18849556,  4.25132741,\n",
        "        4.31415927,  4.37699112,  4.43982297,  4.50265482,  4.56548668,\n",
        "        4.62831853,  4.69115038,  4.75398224,  4.81681409,  4.87964594,\n",
        "        4.9424778 ,  5.00530965,  5.0681415 ,  5.13097336,  5.19380521,\n",
        "        5.25663706,  5.31946891,  5.38230077,  5.44513262,  5.50796447,\n",
        "        5.57079633,  5.63362818,  5.69646003,  5.75929189,  5.82212374,\n",
        "        5.88495559,  5.94778745,  6.0106193 ,  6.07345115,  6.136283  ,\n",
        "        6.19911486,  6.26194671,  6.32477856,  6.38761042,  6.45044227,\n",
        "        6.51327412,  6.57610598,  6.63893783,  6.70176967,  6.76460125,\n",
        "        6.82742866,  6.89018589,  6.95176632,  6.99367964,  6.72527549,\n",
        "        4.        ,  1.27472451,  1.00632036,  1.04823368,  1.10981411,\n",
        "        1.17257134,  1.23539875,  1.29823033,  1.36106217,  1.42389402,\n",
        "        1.48672588,  1.54955773,  1.61238958,  1.67522144,  1.73805329,\n",
        "        1.80088514,  1.863717  ,  1.92654885,  1.9893807 ,  2.05221255,\n",
        "        2.11504441,  2.17787626,  2.24070811,  2.30353997,  2.36637182,\n",
        "        2.42920367,  2.49203553,  2.55486738,  2.61769923,  2.68053109,\n",
        "        2.74336294,  2.80619479,  2.86902664,  2.9318585 ,  2.99469035,\n",
        "        3.0575222 ,  3.12035406,  3.18318591,  3.24601776,  3.30884962,\n",
        "        3.37168147,  3.43451332,  3.49734518,  3.56017703,  3.62300888,\n",
        "        3.68584073,  3.74867259,  3.81150444,  3.87433629,  3.93716815,  4.        ])"
       ]
      }
     ],
     "prompt_number": 8
    },
    {
     "cell_type": "code",
     "collapsed": false,
     "input": [
      "plt.figure(figsize=(11,7), dpi=100)\n",
      "plt.plot(x,u, marker='o', lw=2)\n",
      "plt.xlim([0,2*np.pi])\n",
      "plt.ylim([0,10])"
     ],
     "language": "python",
     "metadata": {},
     "outputs": [
      {
       "latex": [
        "$$\\begin{pmatrix}0, & 10\\end{pmatrix}$$"
       ],
       "metadata": {},
       "output_type": "pyout",
       "prompt_number": 9,
       "text": [
        "(0, 10)"
       ]
      },
      {
       "metadata": {},
       "output_type": "display_data",
       "png": "[encoded data removed]",
       "text": [
        "<matplotlib.figure.Figure at 0x7fdc0bdd8850>"
       ]
      }
     ],
     "prompt_number": 9
    },
    {
     "cell_type": "markdown",
     "metadata": {},
     "source": [
      "Esta definitivamente no es la funci\u00f3n del sombrero que hemos estado tratando hasta ahora. Nosotros lo llamamos una \"funci\u00f3n de diente de sierra\" (*saw-tooth function*). Vamos a continuar y ver qu\u00e9 pasa.\n",
      "\n",
      "Nota: Para ejecutar este cuaderno, se supone que tienes en ejecuci\u00f3n el servidor de notebook usando: `ipython notebook --pylab inline`. Para ello, basta con poner el comando anterior en la ventana de comandos (cmd.exe o terminal si estas en windows, linux o mac)."
     ]
    },
    {
     "cell_type": "markdown",
     "metadata": {},
     "source": [
      "### Condiciones de contorno peri\u00f3dicas\n",
      "\n",
      "Una de las grandes diferencias entre el paso 4 y las lecciones anteriores es el uso de las condiciones de contorno  *peri\u00f3dicas*. Si haces experimentos con los Pasos 1 y 2 y realizas la simulaci\u00f3n durante m\u00e1s tiempo (aumentando `nt`) te dar\u00e1s cuenta de que la onda seguir\u00e1 movi\u00e9ndose hacia la derecha hasta que ya ni siquiera aparece en la malla.\n",
      "\n",
      "Con condiciones de contorno peri\u00f3dicas, cuando un punto llega al lado derecho del cuadro, que *retorna* de vuelta a la parte izquierda del mismo.\n",
      "\n",
      "Recordemos la discretizaci\u00f3n que nos sali\u00f3 a principios de este notebook:\n",
      "\n",
      "$$u_i^{n+1} = u_i^n - u_i^n \\frac{\\Delta t}{\\Delta x} (u_i^n - u_{i-1}^n) + \\nu \\frac{\\Delta t}{\\Delta x^2}(u_{i+1}^n - 2u_i^n + u_{i-1}^n)$$\n",
      "\n",
      "Qu\u00e9 *significado* tiene $u_{i+1}^n$ cuando $i$ llega al final del borde?\n",
      "\n",
      "Piensa en ello durante un minuto antes de continuar. "
     ]
    },
    {
     "cell_type": "code",
     "collapsed": false,
     "input": [
      "for n in range(nt):\n",
      "    un[:]=u[:]\n",
      "    for i in range(nx-1):\n",
      "        u[i] = un[i] - un[i] * dt/dx *(un[i] - un[i-1]) + nu*dt/dx**2*\\\n",
      "                (un[i+1]-2*un[i]+un[i-1])\n",
      "    u[-1] = un[-1] - un[-1] * dt/dx * (un[-1] - un[-2]) + nu*dt/dx**2*\\\n",
      "                (un[0]-2*un[-1]+un[-2])\n",
      "        \n",
      "u_analytical = np.asarray([ufunc(nt*dt, xi, nu) for xi in x])"
     ],
     "language": "python",
     "metadata": {},
     "outputs": [],
     "prompt_number": 10
    },
    {
     "cell_type": "code",
     "collapsed": false,
     "input": [
      "plt.figure(figsize=(11,7), dpi=100)\n",
      "plt.plot(x,u, marker='o', lw=2, label='Computational')\n",
      "plt.plot(x, u_analytical, label='Analytical')\n",
      "plt.xlim([0,2*np.pi])\n",
      "plt.ylim([0,10])\n",
      "plt.legend()"
     ],
     "language": "python",
     "metadata": {},
     "outputs": [
      {
       "metadata": {},
       "output_type": "pyout",
       "prompt_number": 11,
       "text": [
        "<matplotlib.legend.Legend at 0x7fdc0bbef910>"
       ]
      },
      {
       "metadata": {},
       "output_type": "display_data",
       "png": "[encoded data removed]",
       "text": [
        "<matplotlib.figure.Figure at 0x7fdc0bbc93d0>"
       ]
      }
     ],
     "prompt_number": 11
    },
    {
     "cell_type": "markdown",
     "metadata": {},
     "source": [
      "***\n",
      "\n",
      "\u00bfY ahora qu\u00e9?\n",
      "----\n",
      "\n",
      "Los pasos siguientes, del 5 al 12, ser\u00e1n en dos dimensiones. Pero es f\u00e1cil de ampliar las f\u00f3rmulas de diferencias finitas de 1D a las derivadas parciales en 2D o 3D. Basta con aplicar la definici\u00f3n -una derivada parcial con respecto a $x$ es la variaci\u00f3n en la direcci\u00f3n $x$ *manteniendo $y$ constante*.\n",
      "\n",
      "Antes de pasar al [Paso 5](http://nbviewer.ipython.org/urls/bitbucket.org/cfdpython/cfd-python-class/raw/master/lessons/07%2520-%2520Step%25205.ipynb), aseg\u00farate de que has completado tu propio c\u00f3digo de los Pasos 1 al 4 y has jugado con los par\u00e1metros pensando sobre lo que est\u00e1 sucediendo. Adem\u00e1s, te recomendamos tomar un ligero descanso para aprender sobre [operaciones matriciales (arrays) con NumPy](http://nbviewer.ipython.org/urls/bitbucket.org/cfdpython/cfd-python-class/raw/master/lessons/07%2520-%2520Step%25205.ipynb)."
     ]
    },
    {
     "cell_type": "code",
     "collapsed": false,
     "input": [
      "from IPython.core.display import HTML\n",
      "def css_styling():\n",
      "    styles = open(\"../styles/custom.css\", \"r\").read()\n",
      "    return HTML(styles)\n",
      "css_styling()"
     ],
     "language": "python",
     "metadata": {},
     "outputs": [
      {
       "html": [
        "<style>\n",
        "    @font-face {\n",
        "        font-family: \"Computer Modern\";\n",
        "        src: url('http://mirrors.ctan.org/fonts/cm-unicode/fonts/otf/cmunss.otf');\n",
        "    }\n",
        "    div.cell{\n",
        "        width:800px;\n",
        "        margin-left:16% !important;\n",
        "        margin-right:auto;\n",
        "    }\n",
        "    h1 {\n",
        "        font-family: Helvetica, serif;\n",
        "    }\n",
        "    h2 {\n",
        "        font-family: Helvetica, serif;\n",
        "    }\n",
        "    h4{\n",
        "        margin-top:12px;\n",
        "        margin-bottom: 3px;\n",
        "       }\n",
        "    div.text_cell_render{\n",
        "        font-family: Computer Modern, \"Helvetica Neue\", Arial, Helvetica, Geneva, sans-serif;\n",
        "        line-height: 135%;\n",
        "        font-size: 120%;\n",
        "        width:600px;\n",
        "        margin-left:auto;\n",
        "        margin-right:auto;\n",
        "    }\n",
        "    .CodeMirror{\n",
        "            font-family: \"Source Code Pro\", source-code-pro,Consolas, monospace;\n",
        "    }\n",
        "/*    .prompt{\n",
        "        display: None;\n",
        "    }*/\n",
        "    .text_cell_render h5 {\n",
        "        font-weight: 300;\n",
        "        font-size: 16pt;\n",
        "        color: #4057A1;\n",
        "        font-style: italic;\n",
        "        margin-bottom: .5em;\n",
        "        margin-top: 0.5em;\n",
        "        display: block;\n",
        "    }\n",
        "    \n",
        "    .warning{\n",
        "        color: rgb( 240, 20, 20 )\n",
        "        }  \n",
        "</style>\n",
        "<script>\n",
        "    MathJax.Hub.Config({\n",
        "                        TeX: {\n",
        "                           extensions: [\"AMSmath.js\"]\n",
        "                           },\n",
        "                tex2jax: {\n",
        "                    inlineMath: [ ['$','$'], [\"\\\\(\",\"\\\\)\"] ],\n",
        "                    displayMath: [ ['$$','$$'], [\"\\\\[\",\"\\\\]\"] ]\n",
        "                },\n",
        "                displayAlign: 'center', // Change this to 'center' to center equations.\n",
        "                \"HTML-CSS\": {\n",
        "                    styles: {'.MathJax_Display': {\"margin\": 4}}\n",
        "                }\n",
        "        });\n",
        "</script>"
       ],
       "metadata": {},
       "output_type": "pyout",
       "prompt_number": 23,
       "text": [
        "<IPython.core.display.HTML at 0x9309128>"
       ]
      }
     ],
     "prompt_number": 23
    },
    {
     "cell_type": "markdown",
     "metadata": {},
     "source": [
      "> (La celda de arriba establece el formato de este notebook)"
     ]
    }
   ],
   "metadata": {}
  }
 ]
}