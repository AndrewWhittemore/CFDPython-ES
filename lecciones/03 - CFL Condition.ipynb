{
 "metadata": {
  "name": ""
 },
 "nbformat": 3,
 "nbformat_minor": 0,
 "worksheets": [
  {
   "cells": [
    {
     "cell_type": "raw",
     "metadata": {},
     "source": [
      "Texto y c\u00f3digo sujeto bajo Creative Commons Attribution license, CC-BY-SA. (c) Original por Lorena A. Barba, 2013, traducido por F.J. Navarro-Brull para CAChemE.org "
     ]
    },
    {
     "cell_type": "markdown",
     "metadata": {},
     "source": [
      "[@LorenaABarba](https://twitter.com/LorenaABarba)\n",
      "[@CAChemEorg](https://twitter.com/cachemeorg)"
     ]
    },
    {
     "cell_type": "markdown",
     "metadata": {},
     "source": [
      "12 pasos para Navier-Stokes\n",
      "=====\n",
      "***"
     ]
    },
    {
     "cell_type": "markdown",
     "metadata": {},
     "source": [
      "\u00bfHicistes cambios en los Pasos [1](http://nbviewer.ipython.org/urls/bitbucket.org/franktoffel/cfd-python-class-es/raw/master/lecciones/01%2520-%2520Paso%25201.ipynb) y [2](http://nbviewer.ipython.org/urls/bitbucket.org/franktoffel/cfd-python-class-es/raw/master/lecciones/02%2520-%2520Paso%25202.ipynb) usando diferentes valores de par\u00e1metros? Si es as\u00ed, es probable que te encontraras con un comportamiento inesperado. \u00bfTu soluci\u00f3n nunca se descontrol\u00f3? (En mi experiencia, los estudiantes de CFD *aman* hacer que las cosas fallen).\n",
      "\n",
      "Probablemente te est\u00e9s preguntando porqu\u00e9 el cambio de los par\u00e1metros de discretizaci\u00f3n afecta a la soluci\u00f3n de una manera tan dr\u00e1stica. Este notebook complementa nuestras [lecciones interactivas de CFD](https://bitbucket.org/franktoffel/cfd-python-class-es) al discutir la condici\u00f3n CFL. Y aprender m\u00e1s observando las clases en YouTube de la profesora Barba (enlaces m\u00e1s abajo)."
     ]
    },
    {
     "cell_type": "markdown",
     "metadata": {},
     "source": [
      "Convergencia y la condici\u00f3n CFL\n",
      "----\n",
      "***"
     ]
    },
    {
     "cell_type": "markdown",
     "metadata": {},
     "source": [
      "Para los primeros pasos, hemos estado usando las mismas condiciones iniciales y de contorno generales. Con los par\u00e1metros que inicialmente sugerimos, la cuadr\u00edcula cuenta con 41 puntos y el incremento de tiempo es de 0,025 segundos. Ahora, vamos a experimentar con el aumento del tama\u00f1o de nuestra cuadr\u00edcula. El siguiente c\u00f3digo es id\u00e9ntico al c\u00f3digo que se utiliz\u00f3 en el [Paso 1](http://nbviewer.ipython.org/urls/bitbucket.org/franktoffel/cfd-python-class-es/raw/master/lecciones/01%2520-%2520Paso%25201.ipynb) pero aqu\u00ed se ha incluido en una funci\u00f3n para que podamos examinar f\u00e1cilmente lo que sucede a medida que se ajusta una sola variable: **el tama\u00f1o de la cuadr\u00edcula.**"
     ]
    },
    {
     "cell_type": "code",
     "collapsed": false,
     "input": [
      "%pylab inline\n",
      "# El comando de arriba har\u00e1 que figuras de este notebook se representen junto al texto\n",
      "\n",
      "import numpy as np                 # numpy es una libreria que realiza operaciones matriciales estilo MATLAB\n",
      "import matplotlib.pyplot as plt    # matplotlib es una librer\u00eda para dibujar gr\u00e1ficas en 2D \n",
      "\n",
      "# Listos para crear la funci\u00f3n linearconv()\n",
      "\n",
      "def linearconv(nx):\n",
      "    dx = 2./(nx-1)\n",
      "    nt = 20    # nt es el n\u00famero de intervalos de tiempo que se desea calcular\n",
      "    dt = .025  # dt es la cantidad de tiempo que cada incremento de tiempo comprende (delta t)\n",
      "    c = 1\n",
      "\n",
      "    u = np.ones(nx)      # definiendo array de numpy con nx elementos iguales a 1\n",
      "    u[.5/dx : 1/dx+1]=2  # estableciendo u = 2 entre 0.5 y 1 paras las condiciones iniciales (I.C.s)\n",
      "\n",
      "    un = np.ones(nx) #nicializar el marcador de posici\u00f3n de conjunto de 'un', para almacenar la soluci\u00f3n de tiempo instante por instante (n+1)\n",
      "\n",
      "    for n in range(nt):  # iteraci\u00f3n a trav\u00e9s del tiempo\n",
      "        un[:] = u[:] ## copia los valores existentes de 'u' en 'un'\n",
      "        for i in range(1,nx):\n",
      "            u[i] = un[i]-c*dt/dx*(un[i]-un[i-1])\n",
      "        \n",
      "    plt.plot(np.linspace(0,2,nx),u)\n",
      "        "
     ],
     "language": "python",
     "metadata": {},
     "outputs": [
      {
       "output_type": "stream",
       "stream": "stdout",
       "text": [
        "Populating the interactive namespace from numpy and matplotlib\n"
       ]
      }
     ],
     "prompt_number": 1
    },
    {
     "cell_type": "markdown",
     "metadata": {},
     "source": [
      "Ahora vamos a examinar los resultados de nuestro problema de convecci\u00f3n lineal con una malla (cuadr\u00edcula) mas fina cada vez."
     ]
    },
    {
     "cell_type": "code",
     "collapsed": false,
     "input": [
      "linearconv(41) # convecction usando 41 puntos en la malla (mesh)"
     ],
     "language": "python",
     "metadata": {},
     "outputs": [
      {
       "metadata": {},
       "output_type": "display_data",
       "png": "[encoded data removed]",
       "text": [
        "<matplotlib.figure.Figure at 0x7f0080f83350>"
       ]
      }
     ],
     "prompt_number": 2
    },
    {
     "cell_type": "markdown",
     "metadata": {},
     "source": [
      "Este es el mismo resultado que en nuestro de c\u00e1lculo del Paso 1, reproducido arriba para servir como referencia."
     ]
    },
    {
     "cell_type": "code",
     "collapsed": false,
     "input": [
      "linearconv(61)"
     ],
     "language": "python",
     "metadata": {},
     "outputs": [
      {
       "metadata": {},
       "output_type": "display_data",
       "png": "[encoded data removed]",
       "text": [
        "<matplotlib.figure.Figure at 0x7f0080f18e50>"
       ]
      }
     ],
     "prompt_number": 3
    },
    {
     "cell_type": "markdown",
     "metadata": {},
     "source": [
      "Aqu\u00ed, a\u00fan est\u00e1 presente cierta difusi\u00f3n num\u00e9rica _(numerical diffusion)_, pero es menos grave."
     ]
    },
    {
     "cell_type": "code",
     "collapsed": false,
     "input": [
      "linearconv(71)"
     ],
     "language": "python",
     "metadata": {},
     "outputs": [
      {
       "metadata": {},
       "output_type": "display_data",
       "png": "[encoded data removed]",
       "text": [
        "<matplotlib.figure.Figure at 0x7f0080edf5d0>"
       ]
      }
     ],
     "prompt_number": 4
    },
    {
     "cell_type": "markdown",
     "metadata": {},
     "source": [
      "Aqu\u00ed se representa el mismo patr\u00f3n, la onda es m\u00e1s cuadradada que en previos resultados."
     ]
    },
    {
     "cell_type": "code",
     "collapsed": false,
     "input": [
      "linearconv(85)"
     ],
     "language": "python",
     "metadata": {},
     "outputs": [
      {
       "metadata": {},
       "output_type": "display_data",
       "png": "[encoded data removed]",
       "text": [
        "<matplotlib.figure.Figure at 0x7f0080f6e750>"
       ]
      }
     ],
     "prompt_number": 5
    },
    {
     "cell_type": "markdown",
     "metadata": {},
     "source": [
      "Esto no se parece en nada a nuestra funci\u00f3n sombrero original. "
     ]
    },
    {
     "cell_type": "heading",
     "level": 3,
     "metadata": {},
     "source": [
      "\u00bfQu\u00e9 ha ocurrido?"
     ]
    },
    {
     "cell_type": "markdown",
     "metadata": {},
     "source": [
      "Para responder a esta pregunta, tenemos que pensar un poco acerca de lo que en realidad estamos implementando en el c\u00f3digo.\n",
      "\n",
      "En cada iteraci\u00f3n de nuestro bucle que incrementa el tiempo, se utilizan los datos existentes acerca de nuestra onda para estimar la velocidad de la onda en el intervalo de tiempo siguiente. Inicialmente, el aumento en el n\u00famero de puntos de la cuadr\u00edcula nos devolvi\u00f3 respuestas m\u00e1s precisas. Hubo menos difusi\u00f3n num\u00e9rica y la onda cuadrada se ve\u00eda mucho m\u00e1s como tal con respecto a lo que lo hizo en el primer ejemplo.\n",
      "\n",
      "Cada iteraci\u00f3n de nuestro bucle de tiempo abarca un incremento de longitud $\\Delta t$, que hemos estado definiendo como 0.025\n",
      "\n",
      "Durante esta iteraci\u00f3n, se eval\u00faa la velocidad de la onda en cada uno de los puntos $x$ que hemos creado. En la \u00faltima ocasi\u00f3n, algo ha ido claramente mal.\n",
      "\n",
      "\n",
      "Lo que ha pasado es que a lo largo del per\u00edodo de tiempo $\\Delta t$, la onda se desplaza una distancia que es mayor que `dx`. La longitud `dx` de cada celda de la malla (cuadr\u00edcula) est\u00e1 relacionado con el n\u00famero de puntos totales `nx`, por lo que la estabilidad puede asegurarse si el incremento de tiempo $\\Delta t$ se calcula con respecto al tama\u00f1o de `dx`.\n",
      "\n",
      "$$\\sigma = \\frac{u \\Delta t}{\\Delta x} \\leq \\sigma_{max}$$\n",
      "\n",
      "donde $u$ es la velocidad de la onda, $\\sigma$ se conoce como el [**n\u00famero de Courant**](http://es.wikipedia.org/wiki/N%C3%BAmero_de_Courant-Friedrich-Levy) y el valor de $\\sigma_{max}$ que garantice la estabilidad depende de la discretizaci\u00f3n utilizada.\n",
      "\n",
      "En una nueva versi\u00f3n de nuestro c\u00f3digo, vamos a utilizar el n\u00famero CFL para calcular un incremento de tiempo `dt` apropiado en funci\u00f3n del tama\u00f1o de `dx`.\n",
      "\n"
     ]
    },
    {
     "cell_type": "code",
     "collapsed": false,
     "input": [
      "import numpy as np\n",
      "import matplotlib.pyplot as plt\n",
      "\n",
      "def linearconv(nx):\n",
      "    dx = 2./(nx-1)\n",
      "    nt = 20    # nt es el n\u00famero de intervalos de tiempo que se desea calcular\n",
      "    c = 1\n",
      "    sigma = .5\n",
      "    \n",
      "    dt = sigma*dx\n",
      "\n",
      "    u = np.ones(nx) \n",
      "    u[.5/dx : 1/dx+1]=2\n",
      "\n",
      "    un = np.ones(nx)\n",
      "\n",
      "    for n in range(nt):  # teraci\u00f3n a trav\u00e9s del tiempo\n",
      "        un[:] = u[:] ## copia los valores existentes de 'u' en 'un'\n",
      "        for i in range(1,nx):\n",
      "            u[i] = un[i]-c*dt/dx*(un[i]-un[i-1])\n",
      "        \n",
      "    plt.plot(np.linspace(0,2,nx),u)"
     ],
     "language": "python",
     "metadata": {},
     "outputs": [],
     "prompt_number": 6
    },
    {
     "cell_type": "code",
     "collapsed": false,
     "input": [
      "linearconv(41)"
     ],
     "language": "python",
     "metadata": {},
     "outputs": [
      {
       "metadata": {},
       "output_type": "display_data",
       "png": "[encoded data removed]",
       "text": [
        "<matplotlib.figure.Figure at 0x7f0080e89490>"
       ]
      }
     ],
     "prompt_number": 7
    },
    {
     "cell_type": "code",
     "collapsed": false,
     "input": [
      "linearconv(61)"
     ],
     "language": "python",
     "metadata": {},
     "outputs": [
      {
       "metadata": {},
       "output_type": "display_data",
       "png": "[encoded data removed]",
       "text": [
        "<matplotlib.figure.Figure at 0x7f0080e88750>"
       ]
      }
     ],
     "prompt_number": 8
    },
    {
     "cell_type": "code",
     "collapsed": false,
     "input": [
      "linearconv(81)"
     ],
     "language": "python",
     "metadata": {},
     "outputs": [
      {
       "metadata": {},
       "output_type": "display_data",
       "png": "[encoded data removed]",
       "text": [
        "<matplotlib.figure.Figure at 0x7f0080f75050>"
       ]
      }
     ],
     "prompt_number": 9
    },
    {
     "cell_type": "code",
     "collapsed": false,
     "input": [
      "linearconv(101)"
     ],
     "language": "python",
     "metadata": {},
     "outputs": [
      {
       "metadata": {},
       "output_type": "display_data",
       "png": "[encoded data removed]",
       "text": [
        "<matplotlib.figure.Figure at 0x7f0080f183d0>"
       ]
      }
     ],
     "prompt_number": 10
    },
    {
     "cell_type": "code",
     "collapsed": false,
     "input": [
      "linearconv(121)"
     ],
     "language": "python",
     "metadata": {},
     "outputs": [
      {
       "metadata": {},
       "output_type": "display_data",
       "png": "[encoded data removed]",
       "text": [
        "<matplotlib.figure.Figure at 0x7f0080fa6590>"
       ]
      }
     ],
     "prompt_number": 11
    },
    {
     "cell_type": "markdown",
     "metadata": {},
     "source": [
      "Date cuenta que como el n\u00famero de puntos, `nx`, aumenta, la onda experimenta la convecci\u00f3n cada vez de forma m\u00e1s corta (menor \"tama\u00f1o\"). Si bien el n\u00famero de iteraciones de tiempo que hemos hecho avanzar la soluci\u00f3n se mantiene constante a `nt = 20`, dependiendo del valor de `nx` y los valores correspondientes de `dx` y `dt` se examina un intervalo de tiempo m\u00e1s corto en general, lo que provoca el efecto mencionado de acortamiento."
     ]
    },
    {
     "cell_type": "markdown",
     "metadata": {},
     "source": [
      "Aprende m\u00e1s\n",
      "-----\n",
      "***"
     ]
    },
    {
     "cell_type": "markdown",
     "metadata": {},
     "source": [
      "Es posible, en algunos casos, hacer un an\u00e1lisis riguroso de la estabilidad de los sistemas num\u00e9ricos. \u00c9chale un vistazo a la presentaci\u00f3n en ingl\u00e9s de la Profesora Barba sobre este tema en YouTube."
     ]
    },
    {
     "cell_type": "code",
     "collapsed": false,
     "input": [
      "from IPython.display import YouTubeVideo\n",
      "YouTubeVideo('Yw1YPBupZxU')"
     ],
     "language": "python",
     "metadata": {},
     "outputs": [
      {
       "html": [
        "\n",
        "            <iframe\n",
        "                width=\"400\"\n",
        "                height=\"300\"\n",
        "                src=\"http://www.youtube.com/embed/Yw1YPBupZxU\"\n",
        "                frameborder=\"0\"\n",
        "                allowfullscreen\n",
        "            ></iframe>\n",
        "        "
       ],
       "output_type": "pyout",
       "prompt_number": 12,
       "text": [
        "<IPython.lib.display.YouTubeVideo at 0x1082ad210>"
       ]
      }
     ],
     "prompt_number": 12
    },
    {
     "cell_type": "code",
     "collapsed": false,
     "input": [
      "from IPython.core.display import HTML\n",
      "def css_styling():\n",
      "    styles = open(\"../styles/custom.css\", \"r\").read()\n",
      "    return HTML(styles)\n",
      "css_styling()"
     ],
     "language": "python",
     "metadata": {},
     "outputs": [
      {
       "html": [
        "<style>\n",
        "    @font-face {\n",
        "        font-family: \"Computer Modern\";\n",
        "        src: url('http://mirrors.ctan.org/fonts/cm-unicode/fonts/otf/cmunss.otf');\n",
        "    }\n",
        "    div.cell{\n",
        "        width:800px;\n",
        "        margin-left:16% !important;\n",
        "        margin-right:auto;\n",
        "    }\n",
        "    h1 {\n",
        "        font-family: Helvetica, serif;\n",
        "    }\n",
        "    h2 {\n",
        "        font-family: Helvetica, serif;\n",
        "    }\n",
        "    h4{\n",
        "        margin-top:12px;\n",
        "        margin-bottom: 3px;\n",
        "       }\n",
        "    div.text_cell_render{\n",
        "        font-family: Computer Modern, \"Helvetica Neue\", Arial, Helvetica, Geneva, sans-serif;\n",
        "        line-height: 135%;\n",
        "        font-size: 120%;\n",
        "        width:600px;\n",
        "        margin-left:auto;\n",
        "        margin-right:auto;\n",
        "    }\n",
        "    .CodeMirror{\n",
        "            font-family: \"Source Code Pro\", source-code-pro,Consolas, monospace;\n",
        "    }\n",
        "/*    .prompt{\n",
        "        display: None;\n",
        "    }*/\n",
        "    .text_cell_render h5 {\n",
        "        font-weight: 300;\n",
        "        font-size: 16pt;\n",
        "        color: #4057A1;\n",
        "        font-style: italic;\n",
        "        margin-bottom: .5em;\n",
        "        margin-top: 0.5em;\n",
        "        display: block;\n",
        "    }\n",
        "    \n",
        "    .warning{\n",
        "        color: rgb( 240, 20, 20 )\n",
        "        }  \n",
        "</style>\n",
        "<script>\n",
        "    MathJax.Hub.Config({\n",
        "                        TeX: {\n",
        "                           extensions: [\"AMSmath.js\"]\n",
        "                           },\n",
        "                tex2jax: {\n",
        "                    inlineMath: [ ['$','$'], [\"\\\\(\",\"\\\\)\"] ],\n",
        "                    displayMath: [ ['$$','$$'], [\"\\\\[\",\"\\\\]\"] ]\n",
        "                },\n",
        "                displayAlign: 'center', // Change this to 'center' to center equations.\n",
        "                \"HTML-CSS\": {\n",
        "                    styles: {'.MathJax_Display': {\"margin\": 4}}\n",
        "                }\n",
        "        });\n",
        "</script>"
       ],
       "output_type": "pyout",
       "prompt_number": 13,
       "text": [
        "<IPython.core.display.HTML at 0x10bb0c490>"
       ]
      }
     ],
     "prompt_number": 13
    },
    {
     "cell_type": "markdown",
     "metadata": {},
     "source": [
      "> (La celda de arriba establece el formato de este notebook.)"
     ]
    }
   ],
   "metadata": {}
  }
 ]
}