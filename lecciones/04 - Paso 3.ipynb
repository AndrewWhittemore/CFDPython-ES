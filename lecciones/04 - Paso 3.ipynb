{
 "metadata": {
  "name": ""
 },
 "nbformat": 3,
 "nbformat_minor": 0,
 "worksheets": [
  {
   "cells": [
    {
     "cell_type": "raw",
     "metadata": {},
     "source": [
      "Texto y c\u00f3digo sujeto bajo Creative Commons Attribution license, CC-BY-SA. (c) Original por Lorena A. Barba, 2013, traducido por F.J. Navarro-Brull para CAChemE.org \n"
     ]
    },
    {
     "cell_type": "markdown",
     "metadata": {},
     "source": [
      "[@LorenaABarba](https://twitter.com/LorenaABarba)\n",
      "[@CAChemEorg](https://twitter.com/cachemeorg)"
     ]
    },
    {
     "cell_type": "markdown",
     "metadata": {},
     "source": [
      "12 pasos para Navier-Stokes\n",
      "======\n",
      "***"
     ]
    },
    {
     "cell_type": "markdown",
     "metadata": {},
     "source": [
      "Debes de haber completado los pasos [1](http://nbviewer.ipython.org/urls/bitbucket.org/franktoffel/cfd-python-class-es/raw/master/lecciones/01%2520-%2520Paso%25201.ipynb) y [2](http://nbviewer.ipython.org/urls/bitbucket.org/franktoffel/cfd-python-class-es/raw/master/lecciones/02%2520-%2520Paso%25202.ipynb) antes de continuar. Este notebook de IPython contin\u00faa la presentaci\u00f3n de los **12 pasos para Navier-Stokes**, el m\u00f3dulo pr\u00e1ctico se ense\u00f1a en la clase interactiva de CFD impartida por la [Prof. Lorena Barba](http://lorenabarba.com)."
     ]
    },
    {
     "cell_type": "markdown",
     "metadata": {},
     "source": [
      "Paso 3: Ecuaci\u00f3n de difusi\u00f3n en 1-D\n",
      "-----\n",
      "***"
     ]
    },
    {
     "cell_type": "markdown",
     "metadata": {},
     "source": [
      "La ecuaci\u00f3n de difusi\u00f3n unidimensional es:\n",
      "\n",
      "$$\\frac{\\partial u}{\\partial t}= \\nu \\frac{\\partial^2 u}{\\partial x^2}$$\n",
      "\n",
      "Lo primero que deber\u00edas notar es es que, a diferencia de las dos anteriores ecuaciones simples que hemos estudiado, esta ecuaci\u00f3n tiene una derivada de segundo orden. \u00a1Primero tenemos que aprender qu\u00e9 hacer con ella!"
     ]
    },
    {
     "cell_type": "heading",
     "level": 3,
     "metadata": {},
     "source": [
      "Discretizando $\\frac{\\partial ^2 u}{\\partial x^2}$"
     ]
    },
    {
     "cell_type": "markdown",
     "metadata": {},
     "source": [
      "La derivada de segundo orden se puede representar geom\u00e9tricamente como la recta tangente a la curva dada por la primera derivada. Vamos a discretizar la derivada de segundo orden con un esquema de diferencias finitas centradas. Esto lo conseguimos mediante una combinaci\u00f3n de diferencias hacia delante y hacia atr\u00e1s de la primera derivada. Considera la expansi\u00f3n de Taylor de $u_{i+1}$ y $u_{i-1}$ en torno a $u_i$:\n",
      "\n",
      "$u_{i+1} = u_i + \\Delta x \\frac{\\partial u}{\\partial x}\\bigg|_i + \\frac{\\Delta x^2}{2} \\frac{\\partial ^2 u}{\\partial x^2}\\bigg|_i + \\frac{\\Delta x^3}{3} \\frac{\\partial ^3 u}{\\partial x^3}\\bigg|_i + O(\\Delta x^4)$\n",
      "\n",
      "$u_{i-1} = u_i - \\Delta x \\frac{\\partial u}{\\partial x}\\bigg|_i + \\frac{\\Delta x^2}{2} \\frac{\\partial ^2 u}{\\partial x^2}\\bigg|_i - \\frac{\\Delta x^3}{3} \\frac{\\partial ^3 u}{\\partial x^3}\\bigg|_i + O(\\Delta x^4)$\n",
      "\n",
      "Si sumamos estas dos expansiones, se puede ver que los t\u00e9rminos de derivadas impares se anulan entre s\u00ed. Despreciando los t\u00e9rminos de $O(\\Delta x^4)$ o superior (y en realidad, estos son muy peque\u00f1os), podemos reordenar la suma de estas dos expansiones para resolver nuestra segunda derivada."
     ]
    },
    {
     "cell_type": "markdown",
     "metadata": {},
     "source": [
      "$u_{i+1} + u_{i-1} = 2u_i+\\Delta x^2 \\frac{\\partial ^2 u}{\\partial x^2}\\bigg|_i + O(\\Delta x^4)$\n",
      "\n",
      "Reordenando para resolver $\\frac{\\partial ^2 u}{\\partial x^2}\\bigg|_i$ el resultado es:\n",
      "\n",
      "$$\\frac{\\partial ^2 u}{\\partial x^2}=\\frac{u_{i+1}-2u_{i}+u_{i-1}}{\\Delta x^2} + O(\\Delta x^2)$$\n"
     ]
    },
    {
     "cell_type": "heading",
     "level": 3,
     "metadata": {},
     "source": [
      "Volviendo al paso 3"
     ]
    },
    {
     "cell_type": "markdown",
     "metadata": {},
     "source": [
      "Ahora podemos escribir la versi\u00f3n discretizada de la ecuaci\u00f3n de difusi\u00f3n en 1D:\n",
      "\n",
      "$$\\frac{u_{i}^{n+1}-u_{i}^{n}}{\\Delta t}=\\nu\\frac{u_{i+1}^{n}-2u_{i}^{n}+u_{i-1}^{n}}{\\Delta x^2}$$\n",
      "\n",
      "Al igual que antes, nos damos cuenta de que una vez que tenemos una condici\u00f3n inicial, la \u00fanica inc\u00f3gnita es $u_{i}^{n+1}$, por lo que volvemos a reorganizar la ecuaci\u00f3n resolviendo para nuestra inc\u00f3gnita:\n",
      "\n",
      "$$u_{i}^{n+1}=u_{i}^{n}+\\frac{\\nu\\Delta t}{\\Delta x^2}(u_{i+1}^{n}-2u_{i}^{n}+u_{i-1}^{n})$$\n",
      "\n",
      "La ecuaci\u00f3n discreta anterior nos permite escribir un programa para avanzar en una soluci\u00f3n en el tiempo. Pero necesitamos una condici\u00f3n inicial. Vamos a continuar con nuestra favorita: la funci\u00f3n de sombrero. Por lo tanto, en $t=0$, $u=2$ en el intervalo $0.5\\le x\\le 1$ y $u=1$ para todo lo dem\u00e1s. Estamos listos para empezar a calcular n\u00fameros."
     ]
    },
    {
     "cell_type": "code",
     "collapsed": false,
     "input": [
      "%pylab inline\n",
      "# El comando de arriba har\u00e1 que figuras de este notebook se representen junto al texto\n",
      "\n",
      "import numpy as np                 # importando nuestra librer\u00eda favorita\n",
      "import matplotlib.pyplot as plt    # y la \u00fatil librer\u00eda para representar gr\u00e1ficas 2D\n",
      "\n",
      "\n",
      "nx = 41\n",
      "dx = 2./(nx-1)\n",
      "nt = 20    # n\u00famero de intervalos de tiempo que se desea calcular\n",
      "nu = 0.3   # valor de la viscosity\n",
      "sigma = .2 #sigma es un parametro, aprenderemos m\u00e1s sobre ello luego\n",
      "dt = sigma*dx**2/nu #d t es definido usando el valor sigma, aprenderemos m\u00e1s sobre ello enseguida!\n",
      "\n",
      "\n",
      "u = np.ones(nx)      # un array de numpy con nx elementos iguales a 1\n",
      "u[.5/dx : 1/dx+1]=2  # estableciendo u = 2 entre 0.5 y 1 paras las condiciones iniciales (I.C.s)\n",
      "\n",
      "un = np.ones(nx) # nuestro array marcador de posici\u00f3n our placeholder array, un, to advance the solution in time\n",
      "\n",
      "for n in range(nt):  # iteraci\u00f3n a trav\u00e9s del tiempo\n",
      "    un[:] = u[:] ## copia los valores existentes de 'u' en 'un'\n",
      "    for i in range(1,nx-1):\n",
      "        u[i] = un[i] + nu*dt/dx**2*(un[i+1]-2*un[i]+un[i-1])\n",
      "        \n",
      "plt.plot(np.linspace(0,2,nx), u)"
     ],
     "language": "python",
     "metadata": {},
     "outputs": [
      {
       "output_type": "stream",
       "stream": "stdout",
       "text": [
        "Populating the interactive namespace from numpy and matplotlib\n"
       ]
      },
      {
       "metadata": {},
       "output_type": "pyout",
       "prompt_number": 1,
       "text": [
        "[<matplotlib.lines.Line2D at 0x7fe9071d7450>]"
       ]
      },
      {
       "metadata": {},
       "output_type": "display_data",
       "png": "[encoded data removed]",
       "text": [
        "<matplotlib.figure.Figure at 0x7fe9137c2790>"
       ]
      }
     ],
     "prompt_number": 1
    },
    {
     "cell_type": "heading",
     "level": 2,
     "metadata": {},
     "source": [
      "Aprende m\u00e1s"
     ]
    },
    {
     "cell_type": "markdown",
     "metadata": {},
     "source": [
      "Para una explicaci\u00f3n paso a paso de la discretizaci\u00f3n de la ecuaci\u00f3n de difusi\u00f3n y todos los Pasos del 1 al 4, puedes ver el **Video Lesson 4** de la profesora Barba en YouTube."
     ]
    },
    {
     "cell_type": "code",
     "collapsed": false,
     "input": [
      "from IPython.display import YouTubeVideo\n",
      "YouTubeVideo('y2WaK7_iMRI')"
     ],
     "language": "python",
     "metadata": {},
     "outputs": [
      {
       "html": [
        "\n",
        "            <iframe\n",
        "                width=\"400\"\n",
        "                height=\"300\"\n",
        "                src=\"http://www.youtube.com/embed/y2WaK7_iMRI\"\n",
        "                frameborder=\"0\"\n",
        "                allowfullscreen\n",
        "            ></iframe>\n",
        "        "
       ],
       "output_type": "pyout",
       "prompt_number": 1,
       "text": [
        "<IPython.lib.display.YouTubeVideo at 0x1080ba650>"
       ]
      }
     ],
     "prompt_number": 1
    },
    {
     "cell_type": "code",
     "collapsed": false,
     "input": [
      "from IPython.core.display import HTML\n",
      "def css_styling():\n",
      "    styles = open(\"../styles/custom.css\", \"r\").read()\n",
      "    return HTML(styles)\n",
      "css_styling()"
     ],
     "language": "python",
     "metadata": {},
     "outputs": [
      {
       "html": [
        "<style>\n",
        "    @font-face {\n",
        "        font-family: \"Computer Modern\";\n",
        "        src: url('http://mirrors.ctan.org/fonts/cm-unicode/fonts/otf/cmunss.otf');\n",
        "    }\n",
        "    div.cell{\n",
        "        width:800px;\n",
        "        margin-left:16% !important;\n",
        "        margin-right:auto;\n",
        "    }\n",
        "    h1 {\n",
        "        font-family: Helvetica, serif;\n",
        "    }\n",
        "    h2 {\n",
        "        font-family: Helvetica, serif;\n",
        "    }\n",
        "    h4{\n",
        "        margin-top:12px;\n",
        "        margin-bottom: 3px;\n",
        "       }\n",
        "    div.text_cell_render{\n",
        "        font-family: Computer Modern, \"Helvetica Neue\", Arial, Helvetica, Geneva, sans-serif;\n",
        "        line-height: 135%;\n",
        "        font-size: 120%;\n",
        "        width:600px;\n",
        "        margin-left:auto;\n",
        "        margin-right:auto;\n",
        "    }\n",
        "    .CodeMirror{\n",
        "            font-family: \"Source Code Pro\", source-code-pro,Consolas, monospace;\n",
        "    }\n",
        "/*    .prompt{\n",
        "        display: None;\n",
        "    }*/\n",
        "    .text_cell_render h5 {\n",
        "        font-weight: 300;\n",
        "        font-size: 16pt;\n",
        "        color: #4057A1;\n",
        "        font-style: italic;\n",
        "        margin-bottom: .5em;\n",
        "        margin-top: 0.5em;\n",
        "        display: block;\n",
        "    }\n",
        "    \n",
        "    .warning{\n",
        "        color: rgb( 240, 20, 20 )\n",
        "        }  \n",
        "</style>\n",
        "<script>\n",
        "    MathJax.Hub.Config({\n",
        "                        TeX: {\n",
        "                           extensions: [\"AMSmath.js\"]\n",
        "                           },\n",
        "                tex2jax: {\n",
        "                    inlineMath: [ ['$','$'], [\"\\\\(\",\"\\\\)\"] ],\n",
        "                    displayMath: [ ['$$','$$'], [\"\\\\[\",\"\\\\]\"] ]\n",
        "                },\n",
        "                displayAlign: 'center', // Change this to 'center' to center equations.\n",
        "                \"HTML-CSS\": {\n",
        "                    styles: {'.MathJax_Display': {\"margin\": 4}}\n",
        "                }\n",
        "        });\n",
        "</script>"
       ],
       "output_type": "pyout",
       "prompt_number": 1,
       "text": [
        "<IPython.core.display.HTML at 0x342f890>"
       ]
      }
     ],
     "prompt_number": 1
    },
    {
     "cell_type": "markdown",
     "metadata": {},
     "source": [
      "> (La celda de arriba establece el formato de este notebook)"
     ]
    }
   ],
   "metadata": {}
  }
 ]
}