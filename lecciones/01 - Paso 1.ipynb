{
 "metadata": {
  "name": ""
 },
 "nbformat": 3,
 "nbformat_minor": 0,
 "worksheets": [
  {
   "cells": [
    {
     "cell_type": "raw",
     "metadata": {},
     "source": [
      "Texto y c\u00f3digo sujeto bajo Creative Commons Attribution license, CC-BY-SA. (c) Original por Lorena A. Barba, 2013, traducido libremente por F.J. Navarro-Brull para CAChemE.org "
     ]
    },
    {
     "cell_type": "markdown",
     "metadata": {},
     "source": [
      "[@LorenaABarba](https://twitter.com/LorenaABarba)\n",
      "[@CAChemEorg](https://twitter.com/cachemeorg)"
     ]
    },
    {
     "cell_type": "heading",
     "level": 5,
     "metadata": {},
     "source": [
      "Version 0.1 (Julio 2013)"
     ]
    },
    {
     "cell_type": "markdown",
     "metadata": {},
     "source": [
      "12 pasos para Navier-Stokes\n",
      "======\n",
      "***"
     ]
    },
    {
     "cell_type": "markdown",
     "metadata": {},
     "source": [
      "\u00a1Hola! Bienvenidos a ** 12 pasos para Navier-Stokes **. Este es un m\u00f3dulo pr\u00e1ctico que se utiliza en el principio de un curso interactivo de Din\u00e1mica de Fluidos Computacional (en ingl\u00e9s Computational Fluid Dynamics, CFD) y se imparte por la [Prof. Lorena Barba](http://lorenabarba.com) desde el 2009 en la Universidad de Boston. El curso supone s\u00f3lo el conocimiento b\u00e1sico de programaci\u00f3n (en cualquier lenguaje) y, por supuesto, alg\u00fan fundamento en las ecuaciones en derivadas parciales y mec\u00e1nica de fluidos. El m\u00f3dulo pr\u00e1ctico se inspir\u00f3 en las ideas del Dr. Rio Yokota, que era un post-doctorado en el laboratorio de Barba, y ha sido depurado por la profesora Barba y sus alumnos durante varios semestres de ense\u00f1anza del curso. El curso se imparte \u00edntegramente utilizando Python y los estudiantes que no saben Python simplemente aprender\u00e1n a medida que se trabaje a trav\u00e9s del m\u00f3dulo.\n",
      "\n",
      "Este [IPython notebook](http://ipython.org/ipython-doc/stable/interactive/htmlnotebook.html)  ser\u00e1 la primera etapa de programaci\u00f3n de tu propio resolvedor de Navier-Stokes en Python. Vamos a ello ahora mismo. No te preocupes si no entiendes todo lo que est\u00e1 pasando en primer lugar, cubriremos en detalle cada aspecto a medida que se avance y mediante los videos de apoyo (en ingl\u00e9s) [(EN) Clases de la Prof. Barba en YouTube](http://www.youtube.com/playlist?list=PL30F4C5ABCE62CB61).\n",
      "\n",
      "Para obtener los mejores resultados, una vez visto este notebook (cuaderno), escribe tu propio c\u00f3digo para el Paso 1, ya sea como un script en Python o en un notebook IPython vac\u00edo.\n",
      "\n",
      "Para ejecutar este cuaderno, se supone que has arrancado el servidor de notebook usando: `ipython notebook --pylab inline` en tu l\u00ednea de comandos.\n"
     ]
    },
    {
     "cell_type": "markdown",
     "metadata": {},
     "source": [
      "Paso 1: 1-D Convecci\u00f3n lineal (_Linear Convection_)\n",
      "-----\n",
      "***"
     ]
    },
    {
     "cell_type": "markdown",
     "metadata": {},
     "source": [
      "La ecuaci\u00f3n en 1-D de convecci\u00f3n lineal (1-D Linear Convection) es la ecuaci\u00f3n m\u00e1s simple que permite el modelado m\u00e1s sencillo y permite aprender bastante sobre CFD (Computational fluid dynamics). \u00a1Es sorprendente como esta peque\u00f1a ecuaci\u00f3n puede ense\u00f1arnos tanto! aqu\u00ed est\u00e1: \n",
      "\n",
      "$$\\frac{\\partial u}{\\partial t} + c \\frac{\\partial u}{\\partial x} = 0$$\n",
      "\n",
      "Con unas condiciones iniciales dadas (entendido como *onda* o *wave*), la ecuaci\u00f3n representa la propagaci\u00f3n de esta *onda* inicial con velocdad $c$, sin cambio de su forma. Siendo la condici\u00f3n inicial $u(x,0)=u_0(x)$. Entonces, la soluci\u00f3n exacta de la ecuaci\u00f3n es $u(x,t)=u_0(x-ct)$.\n",
      "\n",
      "Para discretizar esta ecuaci\u00f3n en tiempo y espacio, usamos el m\u00e9todo de diferencias finitas, hacia delante para la derivada de tiempo y hacia atr\u00e1s para el espacio. As\u00ed, se discretiza la coordenada espacial $x$ en puntos con un \u00edndice de $i=0$ a $N$, y el tiempo en intervalos de un tama\u00f1o espec\u00edfico $\\Delta t$.\n",
      "\n",
      "De la definici\u00f3n de una derivada (simplemente quitando el l\u00edmite), sabemos que:\n",
      "\n",
      "$$\\frac{\\partial u}{\\partial x}\\approx \\frac{u(x+\\Delta x)-u(x)}{\\Delta x}$$\n",
      "\n",
      "Nuestra ecuaci\u00f3n discreta queda como:\n",
      "\n",
      "$$\\frac{u_i^{n+1}-u_i^n}{\\Delta t} + c \\frac{u_i^n - u_{i-1}^n}{\\Delta x} = 0 $$\n",
      "\n",
      "Donde $n$ y $n+1$ son dos puntos consecutivos en el tiempo, mientras que, $i-1$ y $i$ son dos puntos vecinos de la coordenada $x$ discretizada. Si se dan las condiciones iniciales, entonces la \u00fanica inc\u00f3gnita en esta discretizaci\u00f3n es $u_i^{n+1}$. Podemos resolver la inc\u00f3gnita y obtener una ecuaci\u00f3n que nos permite avanzar en el tiempo, de la siguiente manera:\n",
      "\n",
      "$$u_i^{n+1} = u_i^n - c \\frac{\\Delta t}{\\Delta x}(u_i^n-u_{i-1}^n)$$\n",
      "\n",
      "Ahora vamos a tratar de implementar esto en Python.\n",
      "\n",
      "Vamos a empezar importando algunas librer\u00edas para ayudarnos.\n",
      "\n",
      "* `numpy` es una biblioteca que proporciona un grupo de operaciones matriciales de forma similar a MATLAB \n",
      "* `matplotlib` es una biblioteca de gr\u00e1ficas 2D que vamos a utilizar para representar los resultados \n",
      "* `time` y `sys` proporcionan funciones b\u00e1sicas de tiempo que vamos a utilizar para reducir la velocidad de visualizaci\u00f3n de animaciones"
     ]
    },
    {
     "cell_type": "code",
     "collapsed": false,
     "input": [
      "# Recuerda: Los comentarios en python se indican con el signo de almohadilla\n",
      "\n",
      "%pylab inline\n",
      "# El comando de arriba har\u00e1 que figuras de este notebook se representen junto al texto\n",
      "\n",
      "import numpy as np                 # aqu\u00ed importamos numpy, llam\u00e1ndolo \"np\" de ahora en adelante\n",
      "import matplotlib.pyplot as plt    # aqu\u00ed importamos matplotlib, llam\u00e1ndolo \"plt\"\n",
      "import time, sys                   # e importamos algunas funciones \u00fatiles\n",
      "from IPython.core.display import clear_output # utilizado para la animaci\u00f3n que se ver\u00e1 adelante"
     ],
     "language": "python",
     "metadata": {},
     "outputs": [
      {
       "output_type": "stream",
       "stream": "stdout",
       "text": [
        "Populating the interactive namespace from numpy and matplotlib\n"
       ]
      }
     ],
     "prompt_number": 1
    },
    {
     "cell_type": "markdown",
     "metadata": {},
     "source": [
      "Ahora vamos a definir algunas variables, queremos crear una red de puntos espaciados uniformemente dentro de un dominio espacial que tenga 2 unidades de longitud de ancho, es decir, $x_i\\in(0,2)$. Vamos a definir una variable `nx`, que ser\u00e1 el n\u00famero de puntos de la cuadr\u00edcula que queremos y `dx` ser\u00e1 la distancia entre cualquier par de puntos de las cuadr\u00edculas adyacentes."
     ]
    },
    {
     "cell_type": "code",
     "collapsed": false,
     "input": [
      "nx = 41  # prueba a cambiar este n\u00famero de 41 a 81 y ejecutar todo ... \u00bfqu\u00e9 pasa?\n",
      "dx = 2./(nx-1)\n",
      "nt = 25    # nt es el n\u00famero de pasos de tiempo que queremos calcular\n",
      "dt = .025  # dt es la cantidad de tiempo que cada momento de tiempo abarca (delta t)\n",
      "c = 1.     # asumir la velocidad de la onda de c = 1"
     ],
     "language": "python",
     "metadata": {},
     "outputs": [],
     "prompt_number": 2
    },
    {
     "cell_type": "markdown",
     "metadata": {},
     "source": [
      "Tambi\u00e9n tenemos que establecer nuestras condiciones iniciales. La velocidad inicial $u_0$ viene dada por $u = 2$ en el intervalo $0.5 \\leq x \\leq 1$  y $u = 1$ en el resto de $(0,2)$ (\u00e9sto es la funci\u00f3n de sombrero).\n",
      "\n",
      "Aqu\u00ed, utilizamos la funci\u00f3n `ones()` definiendo un 'array' de numpy que tiene `nx` elementos  de largo con cada valor igual a 1."
     ]
    },
    {
     "cell_type": "code",
     "collapsed": false,
     "input": [
      "u = np.ones(nx)      # numpy funci\u00f3n ones() creando un array de 1 con nx elmentos\n",
      "u[.5/dx : 1/dx+1]=2  # estableciendo u = 2 entre 0.5 y 1 como nuestras C.I.s (condiciones de iniciales)\n",
      "print u"
     ],
     "language": "python",
     "metadata": {},
     "outputs": [
      {
       "output_type": "stream",
       "stream": "stdout",
       "text": [
        "[ 1.  1.  1.  1.  1.  1.  1.  1.  1.  1.  2.  2.  2.  2.  2.  2.  2.  2.\n",
        "  2.  2.  2.  1.  1.  1.  1.  1.  1.  1.  1.  1.  1.  1.  1.  1.  1.  1.\n",
        "  1.  1.  1.  1.  1.]\n"
       ]
      }
     ],
     "prompt_number": 12
    },
    {
     "cell_type": "markdown",
     "metadata": {},
     "source": [
      "Ahora echemos un vistazo a las condiciones iniciales represent\u00e1ndolo gr\u00e1ficamente con Matplotlib. Hemos importado `matplotlib` como `plt` y, dentro de ella, la funci\u00f3n representaci\u00f3n de datos `plot`, por lo que llamamos a `plt.plot`. Para saber m\u00e1s sobre las m\u00faltiples posibilidades de Matplotlib, \u00e9chale un vistazo a la [Galer\u00eda](http://matplotlib.org/gallery.html) de ejemplos de gr\u00e1ficas.\n",
      "\n",
      "Aqu\u00ed, utilizamos la sintaxis de una simple gr\u00e1fica 2D: `plot (x, y)`, donde los valores de `x` se distribuyen uniformemente en puntos de la cuadr\u00edcula:"
     ]
    },
    {
     "cell_type": "code",
     "collapsed": false,
     "input": [
      "plt.plot(np.linspace(0,2,nx), u)"
     ],
     "language": "python",
     "metadata": {},
     "outputs": [
      {
       "metadata": {},
       "output_type": "pyout",
       "prompt_number": 13,
       "text": [
        "[<matplotlib.lines.Line2D at 0x7fc77856e190>]"
       ]
      },
      {
       "metadata": {},
       "output_type": "display_data",
       "png": "[encoded data removed]",
       "text": [
        "<matplotlib.figure.Figure at 0x7fc7785ac850>"
       ]
      }
     ],
     "prompt_number": 13
    },
    {
     "cell_type": "markdown",
     "metadata": {},
     "source": [
      "\u00bfPor qu\u00e9 la funci\u00f3n del sombrero (_hat function_) tiene las l\u00edneas perfectamente rectas? Pi\u00e9nsalo un poco."
     ]
    },
    {
     "cell_type": "markdown",
     "metadata": {},
     "source": [
      "Ahora es el momento de poner en pr\u00e1ctica la discretizaci\u00f3n de la ecuaci\u00f3n de convecci\u00f3n usando el m\u00e9todo de diferencias finitas.\n",
      "\n",
      "Para cada elemento de nuestra matriz `u`, necesitamos realizar la operaci\u00f3n $u_i^{n+1} = u_i^n - c \\frac{\\Delta t}{\\Delta x}(u_i^n-u_{i-1}^n)$\n",
      "\n",
      "Vamos a guardar el resultado en un nuevo array (temporal), `un`, que ser\u00e1 la soluci\u00f3n de $u$ para el siguiente punto en el tiempo. Vamos a repetir esta operaci\u00f3n para todos los intervalos de tiempo que especifiquemos y, entonces, podemos ver hasta qu\u00e9 punto la onda experimenta convecci\u00f3n.\n",
      "\n",
      "Primero inicializamos nuestro array marcador de posici\u00f3n, `un`, y mantenemos los valores que calculados para el $n+1$ intervalos de tiempo, utilizando una vez m\u00e1s la funci\u00f3n de NumPy `ones()`.\n",
      "\n",
      "Entonces, podemos pensar que tenemos dos operaciones iterativas: una en el espacio y una en el tiempo (aprenderemos una manera diferente de hacerlo despu\u00e9s), por lo que vamos a empezar por la inclusi\u00f3n o anidadamiento de un bucle dentro de otro. Ten en cuenta el uso ingenioso de la funci\u00f3n `range()`. Cuando escribimos: `for i in range (1, nx)` vamos a recorrer el array `u`, pero vamos a saltar al primer elemento (el elemento cero). *\u00bfPor qu\u00e9?*\n"
     ]
    },
    {
     "cell_type": "code",
     "collapsed": false,
     "input": [
      "un = np.ones(nx) # crea un array temporal de unos con nx elementos\n",
      "\n",
      "for n in range(nt):  # bucle para los valores de n desde 0 a nt-1, por lo que se ejecutar\u00e1 nt veces\n",
      "    un[:] = u[:] # copia los valores existentes de u en un\n",
      "    for i in range(1,nx): ## puedes convertir esta l\u00ednea en un comentario...\n",
      "    #for i in range(nx): ## ... e intercambiarla por esta otra para ver que pasa!\n",
      "        u[i] = un[i]-c*dt/dx*(un[i]-un[i-1])\n",
      "        \n",
      "        "
     ],
     "language": "python",
     "metadata": {},
     "outputs": [],
     "prompt_number": 14
    },
    {
     "cell_type": "markdown",
     "metadata": {},
     "source": [
      "**Nota**: Aprenderemos m\u00e1s tarde que el c\u00f3digo escrito arriba es bastante ineficiente y hay mejores maneras de escribir esto al estilo Python. Pero vamos a continuar de momento as\u00ed.\n",
      "\n",
      "Ahora vamos a intentar representar nuestro array `u` despu\u00e9s de que el tiempo haya avanzado."
     ]
    },
    {
     "cell_type": "code",
     "collapsed": false,
     "input": [
      "plt.plot(np.linspace(0,2,nx),u)"
     ],
     "language": "python",
     "metadata": {},
     "outputs": [
      {
       "metadata": {},
       "output_type": "pyout",
       "prompt_number": 15,
       "text": [
        "[<matplotlib.lines.Line2D at 0x7fc778540c10>]"
       ]
      },
      {
       "metadata": {},
       "output_type": "display_data",
       "png": "[encoded data removed]",
       "text": [
        "<matplotlib.figure.Figure at 0x7fc7785c6110>"
       ]
      }
     ],
     "prompt_number": 15
    },
    {
     "cell_type": "markdown",
     "metadata": {},
     "source": [
      "\u00a1OK! Nuestra funci\u00f3n sombrero (de copa) se ha movido definitivamente hacia la derecha, pero ya no es un sombrero \"recto\". **\u00bfQu\u00e9 est\u00e1 pasando?**"
     ]
    },
    {
     "cell_type": "markdown",
     "metadata": {},
     "source": [
      "Aprende m\u00e1s\n",
      "-----\n",
      "***"
     ]
    },
    {
     "cell_type": "markdown",
     "metadata": {},
     "source": [
      "Para una explicaci\u00f3n m\u00e1s detallada del m\u00e9todo de diferencias finitas, incluyendo temas como el error de truncamiento, el orden de convergencia y otros detalles, puedes ver en ing\u00e9s las **Video Lessons 2 and 3** de la profesora Barba en YouTube."
     ]
    },
    {
     "cell_type": "code",
     "collapsed": false,
     "input": [
      "from IPython.display import YouTubeVideo\n",
      "YouTubeVideo('iz22_37mMkk')"
     ],
     "language": "python",
     "metadata": {},
     "outputs": [
      {
       "html": [
        "\n",
        "            <iframe\n",
        "                width=\"400\"\n",
        "                height=\"300\"\n",
        "                src=\"http://www.youtube.com/embed/iz22_37mMkk\"\n",
        "                frameborder=\"0\"\n",
        "                allowfullscreen\n",
        "            ></iframe>\n",
        "        "
       ],
       "output_type": "pyout",
       "prompt_number": 7,
       "text": [
        "<IPython.lib.display.YouTubeVideo at 0x1082ac910>"
       ]
      }
     ],
     "prompt_number": 7
    },
    {
     "cell_type": "code",
     "collapsed": false,
     "input": [
      "YouTubeVideo('xq9YTcv-fQg')"
     ],
     "language": "python",
     "metadata": {},
     "outputs": [
      {
       "html": [
        "\n",
        "            <iframe\n",
        "                width=\"400\"\n",
        "                height=\"300\"\n",
        "                src=\"http://www.youtube.com/embed/xq9YTcv-fQg\"\n",
        "                frameborder=\"0\"\n",
        "                allowfullscreen\n",
        "            ></iframe>\n",
        "        "
       ],
       "output_type": "pyout",
       "prompt_number": 8,
       "text": [
        "<IPython.lib.display.YouTubeVideo at 0x1082ac050>"
       ]
      }
     ],
     "prompt_number": 8
    },
    {
     "cell_type": "markdown",
     "metadata": {},
     "source": [
      "Para una explicaci\u00f3n detallada (paso por paso) de la discretizaci\u00f3n de la ecuaci\u00f3n de convecci\u00f3n lineal con diferencias finitas (y tambi\u00e9n los siguientes pasos de estos notebooks hasta el Paso 4), mira el v\u00eddeo **Lesson 4** de la profesora Barba en YouTube."
     ]
    },
    {
     "cell_type": "code",
     "collapsed": false,
     "input": [
      "YouTubeVideo('y2WaK7_iMRI')"
     ],
     "language": "python",
     "metadata": {},
     "outputs": [
      {
       "html": [
        "\n",
        "            <iframe\n",
        "                width=\"400\"\n",
        "                height=\"300\"\n",
        "                src=\"http://www.youtube.com/embed/y2WaK7_iMRI\"\n",
        "                frameborder=\"0\"\n",
        "                allowfullscreen\n",
        "            ></iframe>\n",
        "        "
       ],
       "output_type": "pyout",
       "prompt_number": 9,
       "text": [
        "<IPython.lib.display.YouTubeVideo at 0x1082ace90>"
       ]
      }
     ],
     "prompt_number": 9
    },
    {
     "cell_type": "heading",
     "level": 2,
     "metadata": {},
     "source": [
      "Por \u00faltimo pero no por ello menos importante (_Last but not least_)"
     ]
    },
    {
     "cell_type": "markdown",
     "metadata": {},
     "source": [
      "**Recuerda** que deber\u00edas reescribir el c\u00f3digo de este notebook desde cero como script en Python o experimentar con el cambiando los valores de discretizaci\u00f3n mediante tu instalaci\u00f3n de IPython notebook. Una vez hecho esto, est\u00e1s listo para el [Paso 2](http://nbviewer.ipython.org/urls/bitbucket.org/franktoffel/cfd-python-class-es/raw/master/lecciones/02%2520-%2520Paso%25202.ipynb).\n",
      "\n",
      "\n",
      "***"
     ]
    },
    {
     "cell_type": "code",
     "collapsed": false,
     "input": [
      "from IPython.core.display import HTML\n",
      "def css_styling():\n",
      "    styles = open(\"../styles/custom.css\", \"r\").read()\n",
      "    return HTML(styles)\n",
      "css_styling()"
     ],
     "language": "python",
     "metadata": {},
     "outputs": [
      {
       "html": [
        "<style>\n",
        "    @font-face {\n",
        "        font-family: \"Computer Modern\";\n",
        "        src: url('http://mirrors.ctan.org/fonts/cm-unicode/fonts/otf/cmunss.otf');\n",
        "    }\n",
        "    div.cell{\n",
        "        width:800px;\n",
        "        margin-left:16% !important;\n",
        "        margin-right:auto;\n",
        "    }\n",
        "    h1 {\n",
        "        font-family: Helvetica, serif;\n",
        "    }\n",
        "    h2 {\n",
        "        font-family: Helvetica, serif;\n",
        "    }\n",
        "    h4{\n",
        "        margin-top:12px;\n",
        "        margin-bottom: 3px;\n",
        "       }\n",
        "    div.text_cell_render{\n",
        "        font-family: Computer Modern, \"Helvetica Neue\", Arial, Helvetica, Geneva, sans-serif;\n",
        "        line-height: 135%;\n",
        "        font-size: 120%;\n",
        "        width:600px;\n",
        "        margin-left:auto;\n",
        "        margin-right:auto;\n",
        "    }\n",
        "    .CodeMirror{\n",
        "            font-family: \"Source Code Pro\", source-code-pro,Consolas, monospace;\n",
        "    }\n",
        "/*    .prompt{\n",
        "        display: None;\n",
        "    }*/\n",
        "    .text_cell_render h5 {\n",
        "        font-weight: 300;\n",
        "        font-size: 16pt;\n",
        "        color: #4057A1;\n",
        "        font-style: italic;\n",
        "        margin-bottom: .5em;\n",
        "        margin-top: 0.5em;\n",
        "        display: block;\n",
        "    }\n",
        "    \n",
        "    .warning{\n",
        "        color: rgb( 240, 20, 20 )\n",
        "        }  \n",
        "</style>\n",
        "<script>\n",
        "    MathJax.Hub.Config({\n",
        "                        TeX: {\n",
        "                           extensions: [\"AMSmath.js\"]\n",
        "                           },\n",
        "                tex2jax: {\n",
        "                    inlineMath: [ ['$','$'], [\"\\\\(\",\"\\\\)\"] ],\n",
        "                    displayMath: [ ['$$','$$'], [\"\\\\[\",\"\\\\]\"] ]\n",
        "                },\n",
        "                displayAlign: 'center', // Change this to 'center' to center equations.\n",
        "                \"HTML-CSS\": {\n",
        "                    styles: {'.MathJax_Display': {\"margin\": 4}}\n",
        "                }\n",
        "        });\n",
        "</script>"
       ],
       "output_type": "pyout",
       "prompt_number": 2,
       "text": [
        "<IPython.core.display.HTML at 0x3001250>"
       ]
      }
     ],
     "prompt_number": 2
    },
    {
     "cell_type": "markdown",
     "metadata": {},
     "source": [
      "> (La celda de arriba establece el estilo de este notebook. Se modific\u00f3 el estilo encontrado en GitHub por [CamDavidsonPilon](https://github.com/CamDavidsonPilon), [@Cmrn_DP](https://twitter.com/cmrn_dp).)"
     ]
    }
   ],
   "metadata": {}
  }
 ]
}