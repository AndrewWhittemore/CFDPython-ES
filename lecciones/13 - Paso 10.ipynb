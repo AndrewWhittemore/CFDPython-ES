{
 "metadata": {
  "name": ""
 },
 "nbformat": 3,
 "nbformat_minor": 0,
 "worksheets": [
  {
   "cells": [
    {
     "cell_type": "raw",
     "metadata": {},
     "source": [
      "Texto y c\u00f3digo sujeto bajo Creative Commons Attribution license, CC-BY-SA. (c) Original por Lorena A. Barba y Gilbert Forsyth en 2013, traducido por F.J. Navarro-Brull para CAChemE.org"
     ]
    },
    {
     "cell_type": "markdown",
     "metadata": {},
     "source": [
      "[@LorenaABarba](https://twitter.com/LorenaABarba) - \n",
      "[@CAChemEorg](https://twitter.com/cachemeorg)"
     ]
    },
    {
     "cell_type": "markdown",
     "metadata": {},
     "source": [
      "12 pasos para Navier-Stokes\n",
      "=====\n",
      "***"
     ]
    },
    {
     "cell_type": "markdown",
     "metadata": {},
     "source": [
      "Por un momento, recordemos las ecuaciones de Navier-Stokes para un fluido incompresible, donde $\\vec{v}$ representa el campo de velocidades:\n",
      "\n",
      "\\begin{eqnarray}\n",
      "\\nabla \\cdot\\vec{v} &=& 0\\\\\\\n",
      "\\frac{\\partial \\vec{v}}{\\partial t}+(\\vec{v}\\cdot\\nabla)\\vec{v} &=& -\\frac{1}{\\rho}\\nabla p + \\nu \\nabla^2\\vec{v}\n",
      "\\end{eqnarray}\n",
      "\n",
      "La primera ecuaci\u00f3n representa la conservaci\u00f3n de la masa manteniendo la densidad constante. La segunda ecuaci\u00f3n es la conservaci\u00f3n del momento. Sin embargo, aparece un problema: la ecuaci\u00f3n de continuidad para el flujo incompresible no tiene una variable dominante y no hay manera obvia para acoplar la velocidad y la presi\u00f3n. En el caso de flujo compresible, por contra, la continuidad de la masa proporcionar\u00eda una ecuaci\u00f3n con la evoluci\u00f3n de la densidad $\\rho$, que est\u00e1 acoplada con una ecuaci\u00f3n de estado que relaciona $\\rho$ y $p$.\n",
      "\n",
      "En flujo incompresible, la ecuaci\u00f3n de continuidad $\\nabla \\cdot\\vec{v}=0$ proporciona una *restricci\u00f3n cinem\u00e1tica* que requiere que el campo de presi\u00f3n evolucione de manera que la tasa de expansi\u00f3n $\\nabla \\cdot\\vec{v}$ deber\u00eda desaparecer en todas partes. Una forma de salir de esta dificultad es *construir* un campo de presi\u00f3n que garantice que la continuidad se satisface, tal relaci\u00f3n se puede obtener mediante la adopci\u00f3n de la divergencia de la ecuaci\u00f3n de momento. En este proceso, \u00a1una ecuaci\u00f3n de Poisson para la presi\u00f3n aparece!"
     ]
    },
    {
     "cell_type": "markdown",
     "metadata": {},
     "source": [
      "Paso 10: La ecuaci\u00f3n de Poisson en 2D\n",
      "----\n",
      "***"
     ]
    },
    {
     "cell_type": "markdown",
     "metadata": {},
     "source": [
      "La ecuaci\u00f3n de Poisson se obtiene a\u00f1adiendo un t\u00e9rmino fuente (*source term*) a la derecha de la ecuaci\u00f3n de Laplace:\n",
      "\n",
      "$$\\frac{\\partial ^2 p}{\\partial x^2} + \\frac{\\partial ^2 p}{\\partial y^2} = b$$\n",
      "\n",
      "As\u00ed, a diferencia de la ecuaci\u00f3n de Laplace, hay algo de valor finito en el interior del campo que afecta a la soluci\u00f3n. La ecuaci\u00f3n de Poisson act\u00faa para \"relajar\" las fuentes iniciales en el campo.\n",
      "\n",
      "En forma de datos discretos, esto se ve casi igual que en el [Paso 9](http://nbviewer.ipython.org/urls/bitbucket.org/franktoffel/cfd-python-class-es/raw/master/lecciones/12%2520-%2520Paso%25209.ipynb), a excepci\u00f3n del t\u00e9rmino de fuente:\n",
      "\n",
      "$$\\frac{p_{i+1,j}^{n}-2p_{i,j}^{n}+p_{i-1,j}^{n}}{\\Delta x^2}+\\frac{p_{i,j+1}^{n}-2 p_{i,j}^{n}+p_{i,j-1}^{n}}{\\Delta y^2}=b_{i,j}^{n}$$\n",
      "\n",
      "Al igual que antes, lo reorganizamos para obterner una ecuaci\u00f3n para $p$ en el punto $i,j$. Por lo tanto, obtenemos:\n",
      "\n",
      "$$p_{i,j}^{n}=\\frac{(p_{i+1,j}^{n}+p_{i-1,j}^{n})\\Delta y^2+(p_{i,j+1}^{n}+p_{i,j-1}^{n})\\Delta x^2-b_{i,j}^{n}\\Delta x^2\\Delta y^2}{2(\\Delta x^2+\\Delta y^2)}$$\n"
     ]
    },
    {
     "cell_type": "markdown",
     "metadata": {},
     "source": [
      "Vamos a resolver esta ecuaci\u00f3n, suponiendo un estado inicial de $p=0$ en todas partes, y aplicando las siguientes condiciones de contorno:\n",
      "\n",
      "$p=0$ en $x=0, \\ 2$ y $y=0, \\ 1$\n",
      "\n",
      "y el t\u00e9rmino fuente se compone de dos picos iniciales en el interior del dominio, de la siguiente manera:\n",
      "\n",
      "$b_{i,j}=100$ en $i=nx/4, j=ny/4$\n",
      "\n",
      "$b_{i,j}=-100$ en $i=nx*3/4, j=3/4 ny$\n",
      "\n",
      "$b_{i,j}=0$ en el resto de puntos.\n",
      "\n",
      "Las iteraciones avanzar\u00e1n en pseudo-tiempo para relajar los picos iniciales. La relajaci\u00f3n bajo la ecuaci\u00f3n de Poisson se vuelve m\u00e1s y m\u00e1s lenta a medida que evolucionan. *\u00bfPor qu\u00e9?*"
     ]
    },
    {
     "cell_type": "markdown",
     "metadata": {},
     "source": [
      "Echemos un vistazo a una posible manera de escribir el c\u00f3digo de la ecuaci\u00f3n de Poisson. Como siempre, cargamos nuestras librer\u00edas Python favoritas. Tambi\u00e9n queremos hacer algunas figuras preciosas en 3D. Obtengamos nuestros par\u00e1metros que hemos definidos y la inicializaci\u00f3n. \u00bfQu\u00e9 notas del planteamiento propuesto a continuaci\u00f3n?"
     ]
    },
    {
     "cell_type": "code",
     "collapsed": false,
     "input": [
      "%pylab inline\n",
      "from mpl_toolkits.mplot3d import Axes3D\n",
      "from matplotlib import cm\n",
      "import matplotlib.pyplot as plt\n",
      "import numpy as np\n",
      "\n",
      "# Par\u00e1metros\n",
      "nx = 50\n",
      "ny = 50\n",
      "nt  = 100\n",
      "xmin = 0.\n",
      "xmax = 2.\n",
      "ymin = 0.\n",
      "ymax = 1.\n",
      "\n",
      "dx = (xmax-xmin)/(nx-1)\n",
      "dy = (ymax-ymin)/(ny-1)\n",
      "\n",
      "# Inicializaci\u00f3n\n",
      "p  = np.zeros((nx,ny))\n",
      "pd = np.zeros((nx,ny))\n",
      "b  = np.zeros((nx,ny))\n",
      "x  = np.linspace(xmin,xmax,nx)\n",
      "y  = np.linspace(xmin,xmax,ny)\n",
      "\n",
      "# Fuente\n",
      "b[nx/4][ny/4]  = 100\n",
      "b[3*nx/4][3*ny/4] = -100\n"
     ],
     "language": "python",
     "metadata": {},
     "outputs": [
      {
       "output_type": "stream",
       "stream": "stdout",
       "text": [
        "Populating the interactive namespace from numpy and matplotlib\n"
       ]
      }
     ],
     "prompt_number": 1
    },
    {
     "cell_type": "markdown",
     "metadata": {},
     "source": [
      "Con esto, estamos listos para avanzar en la estimaci\u00f3n inicial de pseudo-tiempo. \u00bfC\u00f3mo es el c\u00f3digo de abajo diferente de la funci\u00f3n que se utiliza en el [Paso 9](http://nbviewer.ipython.org/urls/bitbucket.org/cfdpython/cfd-python-class/raw/master/lessons/12%2520-%2520Step%25209.ipynb) para resolver la ecuaci\u00f3n de Laplace?\n"
     ]
    },
    {
     "cell_type": "code",
     "collapsed": false,
     "input": [
      "for it in range(nt):\n",
      "\n",
      "    pd[:][:]=p[:][:]\n",
      "\n",
      "    p[1:nx-1,1:ny-1] = ( dy**2/(2*(dx**2+dy**2))*(pd[2:nx,1:ny-1]+pd[0:nx-2,1:ny-1]) +\n",
      "        \t\t dx**2/(2*(dx**2+dy**2))*(pd[1:nx-1,2:ny]+pd[1:nx-1,0:ny-2]) -\n",
      "\t\t\tb[1:nx-1,1:ny-1]*dx**2*dy**2/(2*(dx**2+dy**2)) )\n",
      "\n",
      "    p[0,:] = p[nx-1,:] = p[:,0] = p[:,ny-1] = 0.0"
     ],
     "language": "python",
     "metadata": {},
     "outputs": [],
     "prompt_number": 2
    },
    {
     "cell_type": "markdown",
     "metadata": {},
     "source": [
      "Tal vez podr\u00edamos reutilizar el la funcion de representar del [Paso 9](http://nbviewer.ipython.org/urls/bitbucket.org/cfdpython/cfd-python-class/raw/master/lessons/12%2520-%2520Step%25209.ipynb), \u00bfno te parece?"
     ]
    },
    {
     "cell_type": "code",
     "collapsed": false,
     "input": [
      "def plot2D(x, y, p):\n",
      "    fig = plt.figure(figsize=(11,7), dpi=100)\n",
      "    ax = fig.gca(projection='3d')\n",
      "    X,Y = np.meshgrid(x,y)\n",
      "    surf = ax.plot_surface( X,Y,p[:], rstride=1, cstride=1, cmap=cm.coolwarm,\n",
      "            linewidth=0, antialiased=False )\n",
      "    ax.set_xlim(0,2)\n",
      "    ax.set_ylim(0,1)\n",
      "    ax.view_init(30,225)"
     ],
     "language": "python",
     "metadata": {},
     "outputs": [],
     "prompt_number": 3
    },
    {
     "cell_type": "code",
     "collapsed": false,
     "input": [
      "plot2D(x, y, p)"
     ],
     "language": "python",
     "metadata": {},
     "outputs": [
      {
       "metadata": {},
       "output_type": "display_data",
       "png": "[encoded data removed]",
       "text": [
        "<matplotlib.figure.Figure at 0x7f9098e3f150>"
       ]
      }
     ],
     "prompt_number": 4
    },
    {
     "cell_type": "markdown",
     "metadata": {},
     "source": [
      "\u00a1Ah! Las maravillas de la reutilizaci\u00f3n del c\u00f3digo! Ahora, probablemente pienses: \"Bueno, si he escrito esta peque\u00f1a funci\u00f3n tan estupenda que hace algo tan \u00fatil, pero quiero usarla una y otra vez \u00bfC\u00f3mo puedo hacer esto sin tener que copiar y pegar todo el rato? -Si tienes mucha curiosidad acerca de esto, tendr\u00e1s que aprender acerca de *packaging*. Pero esto va m\u00e1s all\u00e1 del alcance de nuestras lecciones de CFD. S\u00f3lo tienes que buscarlo en Google si realmente quieres saber c\u00f3mo ;)"
     ]
    },
    {
     "cell_type": "markdown",
     "metadata": {},
     "source": [
      "***"
     ]
    },
    {
     "cell_type": "heading",
     "level": 2,
     "metadata": {},
     "source": [
      "Aprender m\u00e1s"
     ]
    },
    {
     "cell_type": "markdown",
     "metadata": {},
     "source": [
      "Para obtener m\u00e1s informaci\u00f3n sobre la funci\u00f3n de la ecuaci\u00f3n de Poisson en CFD, puedes ver el **Video Lesson 11** en YouTube:"
     ]
    },
    {
     "cell_type": "code",
     "collapsed": false,
     "input": [
      "from IPython.display import YouTubeVideo\n",
      "YouTubeVideo('ZjfxA3qq2Lg')"
     ],
     "language": "python",
     "metadata": {},
     "outputs": [
      {
       "html": [
        "\n",
        "        <iframe\n",
        "            width=\"400\"\n",
        "            height=300\"\n",
        "            src=\"http://www.youtube.com/embed/ZjfxA3qq2Lg\"\n",
        "            frameborder=\"0\"\n",
        "            allowfullscreen\n",
        "        ></iframe>\n",
        "        "
       ],
       "metadata": {},
       "output_type": "pyout",
       "prompt_number": 5,
       "text": [
        "<IPython.lib.display.YouTubeVideo at 0x7f74208>"
       ]
      }
     ],
     "prompt_number": 5
    },
    {
     "cell_type": "code",
     "collapsed": false,
     "input": [
      "from IPython.core.display import HTML\n",
      "def css_styling():\n",
      "    styles = open(\"../styles/custom.css\", \"r\").read()\n",
      "    return HTML(styles)\n",
      "css_styling()"
     ],
     "language": "python",
     "metadata": {},
     "outputs": [
      {
       "html": [
        "<style>\n",
        "    @font-face {\n",
        "        font-family: \"Computer Modern\";\n",
        "        src: url('http://mirrors.ctan.org/fonts/cm-unicode/fonts/otf/cmunss.otf');\n",
        "    }\n",
        "    div.cell{\n",
        "        width:800px;\n",
        "        margin-left:16% !important;\n",
        "        margin-right:auto;\n",
        "    }\n",
        "    h1 {\n",
        "        font-family: Helvetica, serif;\n",
        "    }\n",
        "    h2 {\n",
        "        font-family: Helvetica, serif;\n",
        "    }\n",
        "    h4{\n",
        "        margin-top:12px;\n",
        "        margin-bottom: 3px;\n",
        "       }\n",
        "    div.text_cell_render{\n",
        "        font-family: Computer Modern, \"Helvetica Neue\", Arial, Helvetica, Geneva, sans-serif;\n",
        "        line-height: 135%;\n",
        "        font-size: 120%;\n",
        "        width:600px;\n",
        "        margin-left:auto;\n",
        "        margin-right:auto;\n",
        "    }\n",
        "    .CodeMirror{\n",
        "            font-family: \"Source Code Pro\", source-code-pro,Consolas, monospace;\n",
        "    }\n",
        "/*    .prompt{\n",
        "        display: None;\n",
        "    }*/\n",
        "    .text_cell_render h5 {\n",
        "        font-weight: 300;\n",
        "        font-size: 16pt;\n",
        "        color: #4057A1;\n",
        "        font-style: italic;\n",
        "        margin-bottom: .5em;\n",
        "        margin-top: 0.5em;\n",
        "        display: block;\n",
        "    }\n",
        "    \n",
        "    .warning{\n",
        "        color: rgb( 240, 20, 20 )\n",
        "        }  \n",
        "</style>\n",
        "<script>\n",
        "    MathJax.Hub.Config({\n",
        "                        TeX: {\n",
        "                           extensions: [\"AMSmath.js\"]\n",
        "                           },\n",
        "                tex2jax: {\n",
        "                    inlineMath: [ ['$','$'], [\"\\\\(\",\"\\\\)\"] ],\n",
        "                    displayMath: [ ['$$','$$'], [\"\\\\[\",\"\\\\]\"] ]\n",
        "                },\n",
        "                displayAlign: 'center', // Change this to 'center' to center equations.\n",
        "                \"HTML-CSS\": {\n",
        "                    styles: {'.MathJax_Display': {\"margin\": 4}}\n",
        "                }\n",
        "        });\n",
        "</script>"
       ],
       "output_type": "pyout",
       "prompt_number": 1,
       "text": [
        "<IPython.core.display.HTML at 0x10ba0c0d0>"
       ]
      }
     ],
     "prompt_number": 1
    },
    {
     "cell_type": "markdown",
     "metadata": {},
     "source": [
      "> (La celda de arriba establece el formato de este notebook)"
     ]
    }
   ],
   "metadata": {}
  }
 ]
}