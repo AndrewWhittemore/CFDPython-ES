{
 "metadata": {
  "name": ""
 },
 "nbformat": 3,
 "nbformat_minor": 0,
 "worksheets": [
  {
   "cells": [
    {
     "cell_type": "raw",
     "metadata": {},
     "source": [
      "Texto y c\u00f3digo sujeto bajo Creative Commons Attribution license, CC-BY-SA. (c) Original por Lorena A. Barba y Gilbert Forsyth en 2013, traducido por F.J. Navarro-Brull para CAChemE.org"
     ]
    },
    {
     "cell_type": "markdown",
     "metadata": {},
     "source": [
      "[@LorenaABarba](https://twitter.com/LorenaABarba) - \n",
      "[@CAChemEorg](https://twitter.com/cachemeorg)"
     ]
    },
    {
     "cell_type": "heading",
     "level": 1,
     "metadata": {},
     "source": [
      "Python Crash Course"
     ]
    },
    {
     "cell_type": "markdown",
     "metadata": {},
     "source": [
      "\u00a1Hola! Esto es una introducci\u00f3n r\u00e1pida de programaci\u00f3n en Python para ayudarte a comenzar a trabajar con el curso llamado _12 pasos para Navier-Stokes_."
     ]
    },
    {
     "cell_type": "heading",
     "level": 2,
     "metadata": {},
     "source": [
      "Librer\u00edas (_Libraries_)"
     ]
    },
    {
     "cell_type": "markdown",
     "metadata": {},
     "source": [
      "Python es un lenguaje de alto nivel cuya filosof\u00eda hace hincapi\u00e9 en una sintaxis muy limpia y que favorezca un c\u00f3digo legible. Una de las grandes ventajas de Python es que la gran mayor\u00eda de c\u00f3digo es abierto. Pero el _Ecosistema de Python_ est\u00e1 habitado por muchas bibliotecas o librer\u00edas que proporcionan herramientas \u00fatiles, como las operaciones matriciales (_arrays_), representaciones gr\u00e1ficas, etc. Podemos importar librer\u00edas de funciones para expandir las capacidades de Python en nuestros programas.\n",
      "\u00a1Ok! Vamos a empezar con la importaci\u00f3n de algunas de ellas para ayudarnos."
     ]
    },
    {
     "cell_type": "code",
     "collapsed": false,
     "input": [
      "# Los comentarios en python se establecen con almohadillas\n",
      "\n",
      "import numpy as np\n",
      "# numpy es una liber\u00eda que se esta importando y permite realizar operaciones matriciales estilo MATLAB.\n",
      "# Para acceder a sus funciones se har\u00e1 uso de una abreviatura mediante la siguiente nomenclatura \"np.NombreDeLaFuncion\"\n",
      "\n",
      "import matplotlib.pyplot as plt \n",
      "# matplotlib es una librer\u00eda para dibujar gr\u00e1ficas en 2D y 3D que se usar\u00e1 para representar los resultados\n",
      "# Accedemos al m\u00f3dulo pyplot dentro de la biblioteca matplotlib. \n",
      "# pyplot es un m\u00f3dulo que ofrece una interfaz de gr\u00e1ficos similar a la de MATLAB\n",
      "# En este caso se accedera a la funciones como \"plt.NombreDeLaFuncion\""
     ],
     "language": "python",
     "metadata": {},
     "outputs": [],
     "prompt_number": 3
    },
    {
     "cell_type": "markdown",
     "metadata": {},
     "source": [
      "En resumen, \u00bfqu\u00e9 es esto de `import X as x`? Mediante estos comandos, se est\u00e1 importando la librer\u00eda (_library_) llamada `numpy` y un sub-librer\u00eda o m\u00f3dulo de un paquete llamado `matplotlib`.  Debido a que las funciones que queremos usar pertenecen a estas librer\u00edas, se debe indicar a Python de donde pertenecen cuando se llamen. Con las dos l\u00edneas superiores se han creado accesos directos a dichas librer\u00edas como `np` y `plt`, respectivamente.  Por tanto, si se requiere el uso de la funci\u00f3n `linspace` contenida dentro de la biblioteca `numpy`, por ejemplo, se puede llamar de la siguiente forma:"
     ]
    },
    {
     "cell_type": "code",
     "collapsed": false,
     "input": [
      "myarray = np.linspace(0, 5, 10)\n",
      "myarray"
     ],
     "language": "python",
     "metadata": {},
     "outputs": [
      {
       "metadata": {},
       "output_type": "pyout",
       "prompt_number": 4,
       "text": [
        "array([ 0.        ,  0.55555556,  1.11111111,  1.66666667,  2.22222222,\n",
        "        2.77777778,  3.33333333,  3.88888889,  4.44444444,  5.        ])"
       ]
      }
     ],
     "prompt_number": 4
    },
    {
     "cell_type": "markdown",
     "metadata": {},
     "source": [
      "Si no se indica previamente a la funci\u00f3n `linspace` con `np`, Python dar\u00e1 un error."
     ]
    },
    {
     "cell_type": "code",
     "collapsed": false,
     "input": [
      "myarray = linspace(0, 5, 10)"
     ],
     "language": "python",
     "metadata": {},
     "outputs": [
      {
       "ename": "NameError",
       "evalue": "name 'linspace' is not defined",
       "output_type": "pyerr",
       "traceback": [
        "\u001b[1;31m---------------------------------------------------------------------------\u001b[0m\n\u001b[1;31mNameError\u001b[0m                                 Traceback (most recent call last)",
        "\u001b[1;32m<ipython-input-5-ed3ba806937a>\u001b[0m in \u001b[0;36m<module>\u001b[1;34m()\u001b[0m\n\u001b[1;32m----> 1\u001b[1;33m \u001b[0mmyarray\u001b[0m \u001b[1;33m=\u001b[0m \u001b[0mlinspace\u001b[0m\u001b[1;33m(\u001b[0m\u001b[1;36m0\u001b[0m\u001b[1;33m,\u001b[0m \u001b[1;36m5\u001b[0m\u001b[1;33m,\u001b[0m \u001b[1;36m10\u001b[0m\u001b[1;33m)\u001b[0m\u001b[1;33m\u001b[0m\u001b[0m\n\u001b[0m",
        "\u001b[1;31mNameError\u001b[0m: name 'linspace' is not defined"
       ]
      }
     ],
     "prompt_number": 5
    },
    {
     "cell_type": "markdown",
     "metadata": {},
     "source": [
      "En ocasiones, se puede observar c\u00f3digo que importa la librer\u00eda directamente sin usar una abreviatura para ello (como `np` para `numpy`). Aunque el acceso a las funciones ser\u00e1 directo y ahorrar\u00eda tiempo a la hora de escribir c\u00f3digo, no es recomendable ya que lleva a errores posteriores. \u00a1Mejor adquirir buenas costumbres de programaci\u00f3n desde un principio!\n",
      "\n",
      "Para aprender las funciones que NumPy proporciona, puedes visitar la siguiente p\u00e1gina [NumPy Reference](http://docs.scipy.org/doc/numpy/reference/). Si ya sabes programar en `MATLAB`, hay una p\u00e1gina que te ser\u00e1 de ayuda: [NumPy for Matlab Users](http://wiki.scipy.org/NumPy_for_MATLAB_Users).\n",
      "\n",
      "Tambi\u00e9n es recomendable echar un vistazo a los primeros cap\u00edtulos de [Introducci\u00f3n a Python para ingenieros](http://picachu.dmt.upm.es/python/index.html) de _Guillem Borrell_\n",
      "\n",
      "Por \u00faltimo, se puede aprender a usar el m\u00f3dulo `pyplot` de la librer\u00eda `matplotlib` a partir del [material generado](http://nbviewer.ipython.org/github/Pybonacci/Tutorial-de-matplotlib.pyplot-en-pybonacci/blob/master/tutorial_de_matplotlib.pyplot.ipynb) por la gente de [Pybonacci](http://pybonacci.wordpress.com/tag/matplotlib-pyplot/)."
     ]
    },
    {
     "cell_type": "heading",
     "level": 2,
     "metadata": {},
     "source": [
      "Variables"
     ]
    },
    {
     "cell_type": "markdown",
     "metadata": {},
     "source": [
      "Python no requiere declarar explicitamente las variables tal y como ocurre en C y otros lenguajes de programaci\u00f3n.  "
     ]
    },
    {
     "cell_type": "code",
     "collapsed": false,
     "input": [
      "a = 5      # a es el n\u00famero entero (integer) 5\n",
      "b = 'five' # b es una cadena de caracteres (string) con la palabra 'five'\n",
      "c = 5.0    # c es el n\u00famero de coma flotante (floating point) 5  "
     ],
     "language": "python",
     "metadata": {},
     "outputs": [],
     "prompt_number": 1
    },
    {
     "cell_type": "code",
     "collapsed": false,
     "input": [
      "type(a)"
     ],
     "language": "python",
     "metadata": {},
     "outputs": [
      {
       "metadata": {},
       "output_type": "pyout",
       "prompt_number": 2,
       "text": [
        "builtins.int"
       ]
      }
     ],
     "prompt_number": 2
    },
    {
     "cell_type": "code",
     "collapsed": false,
     "input": [
      "type(b)"
     ],
     "language": "python",
     "metadata": {},
     "outputs": [
      {
       "metadata": {},
       "output_type": "pyout",
       "prompt_number": 3,
       "text": [
        "builtins.str"
       ]
      }
     ],
     "prompt_number": 3
    },
    {
     "cell_type": "code",
     "collapsed": false,
     "input": [
      "type(c)"
     ],
     "language": "python",
     "metadata": {},
     "outputs": [
      {
       "metadata": {},
       "output_type": "pyout",
       "prompt_number": 4,
       "text": [
        "builtins.float"
       ]
      }
     ],
     "prompt_number": 4
    },
    {
     "cell_type": "markdown",
     "metadata": {},
     "source": [
      "Hay que llevar especial cuidado y asignar a las variables los n\u00fameros en coma flotante o se podr\u00e1n obtener valores no esperados en los programas. Por ejemplo:"
     ]
    },
    {
     "cell_type": "code",
     "collapsed": false,
     "input": [
      "14/a"
     ],
     "language": "python",
     "metadata": {},
     "outputs": [
      {
       "metadata": {},
       "output_type": "pyout",
       "prompt_number": 7,
       "text": [
        "2"
       ]
      }
     ],
     "prompt_number": 7
    },
    {
     "cell_type": "code",
     "collapsed": false,
     "input": [
      "14/c"
     ],
     "language": "python",
     "metadata": {},
     "outputs": [
      {
       "metadata": {},
       "output_type": "pyout",
       "prompt_number": 6,
       "text": [
        "2.8"
       ]
      }
     ],
     "prompt_number": 6
    },
    {
     "cell_type": "markdown",
     "metadata": {},
     "source": [
      "Si se divide un n\u00famero entero por otro entero, el resultado ser\u00e1 redondeado al entero m\u00e1s pr\u00f3ximo de la soluci\u00f3n. Si se desea obtener una respuesta en coma flotante, uno de los n\u00fameros envueltos en la operaci\u00f3n debe de serlo. Para ello, un truco es a\u00f1\u00e1dir un punto al final de un n\u00famero entero. Es importante no confundir esta notaci\u00f3n con las operaciones elemento por elemento tal y como hace MATLAB."
     ]
    },
    {
     "cell_type": "code",
     "collapsed": false,
     "input": [
      "14./a "
     ],
     "language": "python",
     "metadata": {},
     "outputs": [
      {
       "metadata": {},
       "output_type": "pyout",
       "prompt_number": 12,
       "text": [
        "2.8"
       ]
      }
     ],
     "prompt_number": 12
    },
    {
     "cell_type": "markdown",
     "metadata": {},
     "source": [
      "Si se trabaja con las \u00faltimas versiones de Python (a partir de la 3) esto deja de ocurrir ya que la divisi\u00f3n ser\u00e1 tratada tal y como estamos acostumbrados. \n",
      "Para cambiar el comportamiento de la divisi\u00f3n en Python 2.7 se puede hacer uso de:"
     ]
    },
    {
     "cell_type": "code",
     "collapsed": false,
     "input": [
      "from __future__ import division"
     ],
     "language": "python",
     "metadata": {},
     "outputs": [],
     "prompt_number": 13
    },
    {
     "cell_type": "markdown",
     "metadata": {},
     "source": [
      "Mediante esta l\u00ednea la divisi\u00f3n de dos n\u00fameros enteros dar\u00e1 decimales si la soluci\u00f3n los tiene."
     ]
    },
    {
     "cell_type": "code",
     "collapsed": false,
     "input": [
      "14/a"
     ],
     "language": "python",
     "metadata": {},
     "outputs": [
      {
       "metadata": {},
       "output_type": "pyout",
       "prompt_number": 14,
       "text": [
        "2.8"
       ]
      }
     ],
     "prompt_number": 14
    },
    {
     "cell_type": "heading",
     "level": 2,
     "metadata": {},
     "source": [
      "Espacios (_whitespace_) en Python"
     ]
    },
    {
     "cell_type": "markdown",
     "metadata": {},
     "source": [
      "Python usa tabulaciones (_indents_) y espacios (whitespace) para agrupar el contenido de una estructura de control (for, while, if...). En realidad, el tabulado se compone por cuatro espacios en blanco y obliga a escribir c\u00f3digo de forma ordenada. Un programa sin tabular correctamente nos devolver\u00e1 un `IndentationError`. Este hecho permite adem\u00e1s cerrar sentencias sin el uso de \"end\" lo que ayuda a la claridad del c\u00f3digo de forma nativa. Por ejemplo, para escribir un bucle (_loop_) en C, se usar\u00eda:  \n",
      "\n",
      "    for (i = 0, i < 5, i++){\n",
      "       printf(\"Hola! \\n\");\n",
      "    }"
     ]
    },
    {
     "cell_type": "markdown",
     "metadata": {},
     "source": [
      "Python, no usa llaves \"{}\" (_curly braces_) como C en el ejemplo superior, por lo que el mismo programa escrito en Python quedar\u00eda como:"
     ]
    },
    {
     "cell_type": "code",
     "collapsed": false,
     "input": [
      "for i in range(5):\n",
      "    print \"\u00a1Hola! \\n\""
     ],
     "language": "python",
     "metadata": {},
     "outputs": [
      {
       "output_type": "stream",
       "stream": "stdout",
       "text": [
        "\u00a1Hola! \n",
        "\n",
        "\u00a1Hola! \n",
        "\n",
        "\u00a1Hola! \n",
        "\n",
        "\u00a1Hola! \n",
        "\n",
        "\u00a1Hola! \n",
        "\n"
       ]
      }
     ],
     "prompt_number": 8
    },
    {
     "cell_type": "markdown",
     "metadata": {},
     "source": [
      "Si se tienen bucles anidados (nested for-loops) o unas estructuras de control dentro de otras, se debe a\u00f1adir un tabulado en el interior. Por ejemplo para dos bucles for:"
     ]
    },
    {
     "cell_type": "code",
     "collapsed": false,
     "input": [
      "for i in range(3):\n",
      "    for j in range(3):\n",
      "        print i, j\n",
      "    \n",
      "    print \"Esta sentencia pertenece al bucle 'i', pero no al bucle 'j'\""
     ],
     "language": "python",
     "metadata": {},
     "outputs": [
      {
       "output_type": "stream",
       "stream": "stdout",
       "text": [
        "0 0\n",
        "0 1\n",
        "0 2\n",
        "Esta sentencia pertenece al bucle 'i', pero no al bucle 'j'\n",
        "1 0\n",
        "1 1\n",
        "1 2\n",
        "Esta sentencia pertenece al bucle 'i', pero no al bucle 'j'\n",
        "2 0\n",
        "2 1\n",
        "2 2\n",
        "Esta sentencia pertenece al bucle 'i', pero no al bucle 'j'\n"
       ]
      }
     ],
     "prompt_number": 12
    },
    {
     "cell_type": "markdown",
     "metadata": {},
     "source": [
      "Nota: Por si no lo sab\u00edas, la `\\n` al final indica que que se escriba una nueva l\u00ednea. \u00a1Ah!, si est\u00e1s usando una versi\u00f3n m\u00e1s reciente de Python (3.x), `print` se tratar\u00e1 siempre como si fuera una funci\u00f3n: `print(\"\u00a1Hola!\")`"
     ]
    },
    {
     "cell_type": "heading",
     "level": 2,
     "metadata": {},
     "source": [
      "Trabajando con arrays"
     ]
    },
    {
     "cell_type": "markdown",
     "metadata": {},
     "source": [
      "Un array es un conjunto de valores con el mismo tipo, esto es, todos sus elementos son enteros, reales en doble precisi\u00f3n, complejos en simple precisi\u00f3n...\n",
      "\n",
      "La clase array es m\u00e1s parecida a los arrays que se encuentran en C o en Fortran que a las matrices de `MATLAB`. Es importante destacar que <b>todas las operaciones aritm\u00e9ticas entre arrays se ejecutan elemento a elemento</b> y no como multiplicaciones matriciales tal y como ocurre en `MATLAB`.\n",
      "\n",
      "En NumPy, se pueden seleccionar valores de arrays de forma similar que en `MATLAB`. Creamos un array con valores de 1 a 5:"
     ]
    },
    {
     "cell_type": "code",
     "collapsed": false,
     "input": [
      "myvals = np.array([1, 2, 3, 4, 5])\n",
      "myvals"
     ],
     "language": "python",
     "metadata": {},
     "outputs": [
      {
       "metadata": {},
       "output_type": "pyout",
       "prompt_number": 18,
       "text": [
        "array([1, 2, 3, 4, 5])"
       ]
      }
     ],
     "prompt_number": 18
    },
    {
     "cell_type": "markdown",
     "metadata": {},
     "source": [
      "Python indexa con la numeraci\u00f3n a partir de cero (**zero-based index**), asi que vamos a ver el primero y \u00faltimo elemento en el array `myvals`:"
     ]
    },
    {
     "cell_type": "code",
     "collapsed": false,
     "input": [
      "myvals[0], myvals[4]"
     ],
     "language": "python",
     "metadata": {},
     "outputs": [
      {
       "output_type": "pyout",
       "prompt_number": 20,
       "text": [
        "(1, 5)"
       ]
      }
     ],
     "prompt_number": 20
    },
    {
     "cell_type": "markdown",
     "metadata": {},
     "source": [
      "Hay 5 elementos en el array `myvals`,  pero si tratamos de ver el `myvals[5]`, Python se quejar\u00e1 ya que `myvals[5]` est\u00e1 llamando a un 6\u00ba elemento que no existe en este array."
     ]
    },
    {
     "cell_type": "code",
     "collapsed": false,
     "input": [
      "myvals[5]"
     ],
     "language": "python",
     "metadata": {},
     "outputs": [
      {
       "ename": "IndexError",
       "evalue": "index 5 is out of bounds for axis 0 with size 5",
       "output_type": "pyerr",
       "traceback": [
        "\u001b[1;31m---------------------------------------------------------------------------\u001b[0m\n\u001b[1;31mIndexError\u001b[0m                                Traceback (most recent call last)",
        "\u001b[1;32m<ipython-input-20-6cc4d3ae83cd>\u001b[0m in \u001b[0;36m<module>\u001b[1;34m()\u001b[0m\n\u001b[1;32m----> 1\u001b[1;33m \u001b[0mmyvals\u001b[0m\u001b[1;33m[\u001b[0m\u001b[1;36m5\u001b[0m\u001b[1;33m]\u001b[0m\u001b[1;33m\u001b[0m\u001b[0m\n\u001b[0m",
        "\u001b[1;31mIndexError\u001b[0m: index 5 is out of bounds for axis 0 with size 5"
       ]
      }
     ],
     "prompt_number": 20
    },
    {
     "cell_type": "markdown",
     "metadata": {},
     "source": [
      "Los arrays tambien pueden ser divididos o cortados (_sliced_) seleccionando un rango de valores. Veamos c\u00f3mo seleccionar los tres primeros elementos:"
     ]
    },
    {
     "cell_type": "code",
     "collapsed": false,
     "input": [
      "myvals[0:3]"
     ],
     "language": "python",
     "metadata": {},
     "outputs": [
      {
       "output_type": "pyout",
       "prompt_number": 22,
       "text": [
        "array([1, 2, 3])"
       ]
      }
     ],
     "prompt_number": 22
    },
    {
     "cell_type": "markdown",
     "metadata": {},
     "source": [
      "F\u00edjate que **la selecci\u00f3n de elementos incluye el valor inicial y excluye el final**. El comando de arriba devuelve los valores de `myvals[0]`, `myvals[1]` y `myvals[2]`, pero no de `myvals[3]`.\n",
      "\n",
      "Python posibilita la utilizaci\u00f3n de \u00edndices negativos para numerar una secuencia desde el final. De esta forma, el elemento correspondiente al \u00edndice -1 ser\u00e1 el \u00faltimo elemento de la secuencia"
     ]
    },
    {
     "cell_type": "code",
     "collapsed": false,
     "input": [
      "myvals[-1]"
     ],
     "language": "python",
     "metadata": {},
     "outputs": [
      {
       "metadata": {},
       "output_type": "pyout",
       "prompt_number": 19,
       "text": [
        "5"
       ]
      }
     ],
     "prompt_number": 19
    },
    {
     "cell_type": "heading",
     "level": 2,
     "metadata": {},
     "source": [
      "Asignando variables con array"
     ]
    },
    {
     "cell_type": "markdown",
     "metadata": {},
     "source": [
      "Una de los capricho-funcionalidades en Python que suele confundir a la gente es la asignaci\u00f3n y comparaci\u00f3n de arrays de valores. Por ejemplo, definamos un array de una dimensi\u00f3n (1-D) llamado $a$:"
     ]
    },
    {
     "cell_type": "code",
     "collapsed": false,
     "input": [
      "a = np.linspace(1,5,5)"
     ],
     "language": "python",
     "metadata": {},
     "outputs": [],
     "prompt_number": 33
    },
    {
     "cell_type": "code",
     "collapsed": false,
     "input": [
      "a"
     ],
     "language": "python",
     "metadata": {},
     "outputs": [
      {
       "metadata": {},
       "output_type": "pyout",
       "prompt_number": 34,
       "text": [
        "array([ 1.,  2.,  3.,  4.,  5.])"
       ]
      }
     ],
     "prompt_number": 34
    },
    {
     "cell_type": "markdown",
     "metadata": {},
     "source": [
      "OK, entonces tenemos un array $a$, con los valores del 1 al 5. Si quiero hacer una copia de este array, llamado $b$, har\u00e9 lo siguiente: "
     ]
    },
    {
     "cell_type": "code",
     "collapsed": false,
     "input": [
      "b = a"
     ],
     "language": "python",
     "metadata": {},
     "outputs": [],
     "prompt_number": 35
    },
    {
     "cell_type": "code",
     "collapsed": false,
     "input": [
      "b"
     ],
     "language": "python",
     "metadata": {},
     "outputs": [
      {
       "metadata": {},
       "output_type": "pyout",
       "prompt_number": 36,
       "text": [
        "array([ 1.,  2.,  3.,  4.,  5.])"
       ]
      }
     ],
     "prompt_number": 36
    },
    {
     "cell_type": "markdown",
     "metadata": {},
     "source": [
      "Genial. Entonces $a$ tiene los valores de 1 a 5 tal y como tengo ahora para $b$.  Ya que tengo una copia de $a$, puedo cambiar sus valores sin preocuparme de perder datos (\u00a1o eso puedo pensar!)"
     ]
    },
    {
     "cell_type": "code",
     "collapsed": false,
     "input": [
      "a[2] = 17"
     ],
     "language": "python",
     "metadata": {},
     "outputs": [],
     "prompt_number": 37
    },
    {
     "cell_type": "code",
     "collapsed": false,
     "input": [
      "a"
     ],
     "language": "python",
     "metadata": {},
     "outputs": [
      {
       "metadata": {},
       "output_type": "pyout",
       "prompt_number": 38,
       "text": [
        "array([  1.,   2.,  17.,   4.,   5.])"
       ]
      }
     ],
     "prompt_number": 38
    },
    {
     "cell_type": "markdown",
     "metadata": {},
     "source": [
      "Aqu\u00ed el 3\u00ba elemento de $a$ se ha cambiado a 17.  Vamos ahora a comprobar que ha pasado con $b$."
     ]
    },
    {
     "cell_type": "code",
     "collapsed": false,
     "input": [
      "b"
     ],
     "language": "python",
     "metadata": {},
     "outputs": [
      {
       "metadata": {},
       "output_type": "pyout",
       "prompt_number": 39,
       "text": [
        "array([  1.,   2.,  17.,   4.,   5.])"
       ]
      }
     ],
     "prompt_number": 39
    },
    {
     "cell_type": "markdown",
     "metadata": {},
     "source": [
      "\u00a1Y aqu\u00ed es donde las cosas fallan! Cuando se usa una declaraci\u00f3n del tipo $a = b$, m\u00e1s que copiar todos los valores de $a$ a un nuevo array llamado $b$, Python simplemente crea un alias (o puntero) llamado $b$ y lo referencia con $a$. Por lo que si cambiamos el valor en  $a$ entonces $b$ reflejar\u00e1 ese cambio (t\u00e9cnicamente, esto se llama *assignment by reference*).  Si se quiere realizar una copia real de un array, se tiene que decir a Python que copie todos los elementos de $a$ en un nuevo array. Llam\u00e9mosle $c$. "
     ]
    },
    {
     "cell_type": "code",
     "collapsed": false,
     "input": [
      "c[:] = a[:]"
     ],
     "language": "python",
     "metadata": {},
     "outputs": [],
     "prompt_number": 58
    },
    {
     "cell_type": "markdown",
     "metadata": {},
     "source": [
      "Desafortundamente, si queremos hacer una copia real, los nuevos arrays deben de ser definidos primero y deben de tener el mismo n\u00famero de elementos. Por lo que ser\u00e1 un proceso con dos pasos. Se puede definir un array \"vac\u00edo\" que sea de las mismas dimensiones que $a$ usando la funcion de numpy `empty_like`:"
     ]
    },
    {
     "cell_type": "code",
     "collapsed": false,
     "input": [
      "c = np.empty_like(a)"
     ],
     "language": "python",
     "metadata": {},
     "outputs": [],
     "prompt_number": 59
    },
    {
     "cell_type": "code",
     "collapsed": false,
     "input": [
      "len(c) # muestra la longitud de c"
     ],
     "language": "python",
     "metadata": {},
     "outputs": [
      {
       "metadata": {},
       "output_type": "pyout",
       "prompt_number": 60,
       "text": [
        "5"
       ]
      }
     ],
     "prompt_number": 60
    },
    {
     "cell_type": "code",
     "collapsed": false,
     "input": [
      "c[:]=a[:] # copia los elementos de a en c"
     ],
     "language": "python",
     "metadata": {},
     "outputs": [],
     "prompt_number": 61
    },
    {
     "cell_type": "code",
     "collapsed": false,
     "input": [
      "c"
     ],
     "language": "python",
     "metadata": {},
     "outputs": [
      {
       "metadata": {},
       "output_type": "pyout",
       "prompt_number": 62,
       "text": [
        "array([  1.,  13.,  17.,   4.,   5.])"
       ]
      }
     ],
     "prompt_number": 62
    },
    {
     "cell_type": "markdown",
     "metadata": {},
     "source": [
      "Ahora, podemos probar de nuevo a cambiar un valor de $a$ y ver si tambi\u00e9n cambia el valor en $c$.  "
     ]
    },
    {
     "cell_type": "code",
     "collapsed": false,
     "input": [
      "a[2] = 3"
     ],
     "language": "python",
     "metadata": {},
     "outputs": [],
     "prompt_number": 63
    },
    {
     "cell_type": "code",
     "collapsed": false,
     "input": [
      "a"
     ],
     "language": "python",
     "metadata": {},
     "outputs": [
      {
       "metadata": {},
       "output_type": "pyout",
       "prompt_number": 64,
       "text": [
        "array([  1.,  13.,   3.,   4.,   5.])"
       ]
      }
     ],
     "prompt_number": 64
    },
    {
     "cell_type": "code",
     "collapsed": false,
     "input": [
      "c"
     ],
     "language": "python",
     "metadata": {},
     "outputs": [
      {
       "metadata": {},
       "output_type": "pyout",
       "prompt_number": 65,
       "text": [
        "array([  1.,  13.,  17.,   4.,   5.])"
       ]
      }
     ],
     "prompt_number": 65
    },
    {
     "cell_type": "markdown",
     "metadata": {},
     "source": [
      "\u00a1Funcion\u00f3!  Si la diferencia entre `a = b` y `a[:]=b[:]` no est\u00e1 clara, deber\u00edas leer este apartado de nuevo. Esta cuesti\u00f3n volver\u00e1 a aparecer m\u00e1s adelante para ponerte a prueba."
     ]
    },
    {
     "cell_type": "markdown",
     "metadata": {},
     "source": [
      "_NOTA_ : Existe una forma m\u00e1s sencilla de copiar arrays en NumPy y es mediante la funci\u00f3n `copy()`"
     ]
    },
    {
     "cell_type": "code",
     "collapsed": false,
     "input": [
      "a = np.linspace(1,5,5)\n",
      "d = np.copy(a)\n"
     ],
     "language": "python",
     "metadata": {},
     "outputs": [],
     "prompt_number": 72
    },
    {
     "cell_type": "code",
     "collapsed": false,
     "input": [
      "d"
     ],
     "language": "python",
     "metadata": {},
     "outputs": [
      {
       "metadata": {},
       "output_type": "pyout",
       "prompt_number": 73,
       "text": [
        "array([ 1.,  2.,  3.,  4.,  5.])"
       ]
      }
     ],
     "prompt_number": 73
    },
    {
     "cell_type": "code",
     "collapsed": false,
     "input": [
      "a[2] = 17\n"
     ],
     "language": "python",
     "metadata": {},
     "outputs": [],
     "prompt_number": 74
    },
    {
     "cell_type": "code",
     "collapsed": false,
     "input": [
      "a"
     ],
     "language": "python",
     "metadata": {},
     "outputs": [
      {
       "metadata": {},
       "output_type": "pyout",
       "prompt_number": 75,
       "text": [
        "array([  1.,   2.,  17.,   4.,   5.])"
       ]
      }
     ],
     "prompt_number": 75
    },
    {
     "cell_type": "code",
     "collapsed": false,
     "input": [
      "d"
     ],
     "language": "python",
     "metadata": {},
     "outputs": [
      {
       "metadata": {},
       "output_type": "pyout",
       "prompt_number": 76,
       "text": [
        "array([ 1.,  2.,  3.,  4.,  5.])"
       ]
      }
     ],
     "prompt_number": 76
    },
    {
     "cell_type": "heading",
     "level": 2,
     "metadata": {},
     "source": [
      "M\u00e1s informaci\u00f3n."
     ]
    },
    {
     "cell_type": "markdown",
     "metadata": {},
     "source": [
      "Hay muchos recursos online para aprender m\u00e1s sobre NumPy y otras librer\u00edas. S\u00f3lo por diversi\u00f3n, vamos a usar una funcionalidad de IPython para incluir un v\u00eddeo de YouTube en este notebook."
     ]
    },
    {
     "cell_type": "code",
     "collapsed": false,
     "input": [
      "from IPython.display import YouTubeVideo\n",
      "# Un peque\u00f1o v\u00eddeo en ingl\u00e9s de como trabajar con arrays en NumPy arrays, de Enthought\n",
      "YouTubeVideo('vWkb7VahaXQ')"
     ],
     "language": "python",
     "metadata": {},
     "outputs": [
      {
       "html": [
        "\n",
        "            <iframe\n",
        "                width=\"400\"\n",
        "                height=\"300\"\n",
        "                src=\"http://www.youtube.com/embed/vWkb7VahaXQ\"\n",
        "                frameborder=\"0\"\n",
        "                allowfullscreen\n",
        "            ></iframe>\n",
        "        "
       ],
       "output_type": "pyout",
       "prompt_number": 41,
       "text": [
        "<IPython.lib.display.YouTubeVideo at 0x108254b50>"
       ]
      }
     ],
     "prompt_number": 41
    },
    {
     "cell_type": "code",
     "collapsed": false,
     "input": [
      "from IPython.core.display import HTML\n",
      "def css_styling():\n",
      "    styles = open(\"../styles/custom.css\", \"r\").read()\n",
      "    return HTML(styles)\n",
      "css_styling()"
     ],
     "language": "python",
     "metadata": {},
     "outputs": [
      {
       "html": [
        "<style>\n",
        "    @font-face {\n",
        "        font-family: \"Computer Modern\";\n",
        "        src: url('http://mirrors.ctan.org/fonts/cm-unicode/fonts/otf/cmunss.otf');\n",
        "    }\n",
        "    div.cell{\n",
        "        width:800px;\n",
        "        margin-left:16% !important;\n",
        "        margin-right:auto;\n",
        "    }\n",
        "    h1 {\n",
        "        font-family: Helvetica, serif;\n",
        "    }\n",
        "    h2 {\n",
        "        font-family: Helvetica, serif;\n",
        "    }\n",
        "    h4{\n",
        "        margin-top:12px;\n",
        "        margin-bottom: 3px;\n",
        "       }\n",
        "    div.text_cell_render{\n",
        "        font-family: Computer Modern, \"Helvetica Neue\", Arial, Helvetica, Geneva, sans-serif;\n",
        "        line-height: 135%;\n",
        "        font-size: 120%;\n",
        "        width:600px;\n",
        "        margin-left:auto;\n",
        "        margin-right:auto;\n",
        "    }\n",
        "    .CodeMirror{\n",
        "            font-family: \"Source Code Pro\", source-code-pro,Consolas, monospace;\n",
        "    }\n",
        "/*    .prompt{\n",
        "        display: None;\n",
        "    }*/\n",
        "    .text_cell_render h5 {\n",
        "        font-weight: 300;\n",
        "        font-size: 16pt;\n",
        "        color: #4057A1;\n",
        "        font-style: italic;\n",
        "        margin-bottom: .5em;\n",
        "        margin-top: 0.5em;\n",
        "        display: block;\n",
        "    }\n",
        "    \n",
        "    .warning{\n",
        "        color: rgb( 240, 20, 20 )\n",
        "        }  \n",
        "</style>\n",
        "<script>\n",
        "    MathJax.Hub.Config({\n",
        "                        TeX: {\n",
        "                           extensions: [\"AMSmath.js\"]\n",
        "                           },\n",
        "                tex2jax: {\n",
        "                    inlineMath: [ ['$','$'], [\"\\\\(\",\"\\\\)\"] ],\n",
        "                    displayMath: [ ['$$','$$'], [\"\\\\[\",\"\\\\]\"] ]\n",
        "                },\n",
        "                displayAlign: 'center', // Change this to 'center' to center equations.\n",
        "                \"HTML-CSS\": {\n",
        "                    styles: {'.MathJax_Display': {\"margin\": 4}}\n",
        "                }\n",
        "        });\n",
        "</script>"
       ],
       "output_type": "pyout",
       "prompt_number": 2,
       "text": [
        "<IPython.core.display.HTML at 0x211b250>"
       ]
      }
     ],
     "prompt_number": 2
    }
   ],
   "metadata": {}
  }
 ]
}